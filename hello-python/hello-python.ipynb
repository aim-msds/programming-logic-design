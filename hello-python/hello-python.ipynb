{
 "cells": [
  {
   "cell_type": "markdown",
   "id": "e2cbc731",
   "metadata": {},
   "source": [
    "# Hello Python! 🐍\n",
    "\n",
    "Reference: Matthes, E. (2023). *Python crash course: A hands-on, project-based introduction to programming.*"
   ]
  },
  {
   "cell_type": "markdown",
   "id": "f3fcbc08",
   "metadata": {},
   "source": [
    "## 1 The Ceremonial `hello world!`"
   ]
  },
  {
   "cell_type": "markdown",
   "id": "90418e94",
   "metadata": {},
   "source": [
    "Let us know perform the ceremonial printing of `hello world!` using python!"
   ]
  },
  {
   "cell_type": "markdown",
   "id": "9618e105",
   "metadata": {},
   "source": [
    "### Approach 1"
   ]
  },
  {
   "cell_type": "markdown",
   "id": "7f5ec81d",
   "metadata": {},
   "source": [
    "```\n",
    "start\n",
    "print the string \"hello world!\"\n",
    "end\n",
    "```"
   ]
  },
  {
   "cell_type": "code",
   "execution_count": null,
   "id": "eb811409",
   "metadata": {
    "ExecuteTime": {
     "end_time": "2023-07-11T15:18:40.315253Z",
     "start_time": "2023-07-11T15:18:40.308142Z"
    }
   },
   "outputs": [],
   "source": [
    "print(\"hello world!\")"
   ]
  },
  {
   "cell_type": "markdown",
   "id": "7a4cf9f9",
   "metadata": {},
   "source": [
    "### Approach 2"
   ]
  },
  {
   "cell_type": "markdown",
   "id": "9ecb5b1d",
   "metadata": {},
   "source": [
    "```\n",
    "start\n",
    "set `message` as `\"hello world!\"`\n",
    "print `message`\n",
    "end\n",
    "```"
   ]
  },
  {
   "cell_type": "code",
   "execution_count": null,
   "id": "0353670a",
   "metadata": {
    "ExecuteTime": {
     "end_time": "2023-07-11T15:40:28.029548Z",
     "start_time": "2023-07-11T15:40:28.020692Z"
    }
   },
   "outputs": [],
   "source": [
    "message = \"hello world!\"\n",
    "print(message)"
   ]
  },
  {
   "cell_type": "markdown",
   "id": "6b690f3c",
   "metadata": {},
   "source": [
    "The difference is that in approach 2, we've set the *variable* `message` with the value `\"hello world!\"` then printed the `message` in our notebook."
   ]
  },
  {
   "cell_type": "markdown",
   "id": "cb07668a",
   "metadata": {},
   "source": [
    "When we are using variables in Python, there are some rules and guidelines.\n",
    "\n",
    "1. Variable names can contain only letters, numbers, and underscores. They can start with a letter or an underscore, but not with a number. e.g., `message_1` is valid but `1_message` is not.\n",
    "2. Spaces are not allowed in variable names, but underscores can be used to separate words in variable names. e.g.,` greeting_message` works, but `greeting message` will cause errors.\n",
    "3. Avoid using Python keywords and function names as variable names; do not use words that Python has reserved for a particular purpose. e.g., `print`. See [Python Keywords](https://www.w3schools.com/python/python_ref_keywords.asp) for more examples.\n",
    "4. Variable names should be short but descriptive.\n",
    "5. Be careful when using lower case `l` and upper case `O`, because they can be confused with `1` and `0`."
   ]
  },
  {
   "cell_type": "markdown",
   "id": "3317d51d",
   "metadata": {},
   "source": [
    "## 2 Strings"
   ]
  },
  {
   "cell_type": "markdown",
   "id": "26138239",
   "metadata": {},
   "source": [
    "A *string* is a series of characters. We can define strings in python using single or double quotes."
   ]
  },
  {
   "cell_type": "markdown",
   "id": "11a8391f",
   "metadata": {},
   "source": [
    "### Defining strings"
   ]
  },
  {
   "cell_type": "code",
   "execution_count": null,
   "id": "94398496",
   "metadata": {
    "ExecuteTime": {
     "end_time": "2023-07-11T16:39:27.116825Z",
     "start_time": "2023-07-11T16:39:27.107861Z"
    }
   },
   "outputs": [],
   "source": [
    "\"This is a string\""
   ]
  },
  {
   "cell_type": "code",
   "execution_count": null,
   "id": "37b7cd4f",
   "metadata": {
    "ExecuteTime": {
     "end_time": "2023-07-11T16:39:30.906404Z",
     "start_time": "2023-07-11T16:39:30.902294Z"
    }
   },
   "outputs": [],
   "source": [
    "'This is a string'"
   ]
  },
  {
   "cell_type": "code",
   "execution_count": null,
   "id": "ce54853e",
   "metadata": {
    "ExecuteTime": {
     "end_time": "2023-07-11T16:40:28.505576Z",
     "start_time": "2023-07-11T16:40:28.501513Z"
    }
   },
   "outputs": [],
   "source": [
    "'I told my friend, \"My dream is to become a data science leader\"'"
   ]
  },
  {
   "cell_type": "code",
   "execution_count": null,
   "id": "7d00823d",
   "metadata": {
    "ExecuteTime": {
     "end_time": "2023-07-11T16:41:59.978986Z",
     "start_time": "2023-07-11T16:41:59.973173Z"
    }
   },
   "outputs": [],
   "source": [
    "\"The language 'Python' is named after Monty Python\""
   ]
  },
  {
   "cell_type": "markdown",
   "id": "b9bc4307",
   "metadata": {},
   "source": [
    "### String operations"
   ]
  },
  {
   "cell_type": "markdown",
   "id": "8ec078be",
   "metadata": {},
   "source": [
    "Here are some other operations that you can do with strings:"
   ]
  },
  {
   "cell_type": "code",
   "execution_count": null,
   "id": "3b9cbd1d",
   "metadata": {
    "ExecuteTime": {
     "end_time": "2023-07-11T16:46:31.496052Z",
     "start_time": "2023-07-11T16:46:31.488228Z"
    }
   },
   "outputs": [],
   "source": [
    "name = \"Leo Lorenzo II\"\n",
    "\n",
    "print(name.title())\n",
    "print(name.upper())\n",
    "print(name.lower())"
   ]
  },
  {
   "cell_type": "code",
   "execution_count": null,
   "id": "8d52d51f",
   "metadata": {
    "ExecuteTime": {
     "end_time": "2023-07-11T16:46:36.596711Z",
     "start_time": "2023-07-11T16:46:36.569185Z"
    }
   },
   "outputs": [],
   "source": [
    "help(str)"
   ]
  },
  {
   "cell_type": "code",
   "execution_count": null,
   "id": "c11e26bb",
   "metadata": {
    "ExecuteTime": {
     "end_time": "2023-07-11T19:51:03.724631Z",
     "start_time": "2023-07-11T19:51:03.709311Z"
    }
   },
   "outputs": [],
   "source": [
    "\"Leo\" + \" \" + \"Lorenzo\""
   ]
  },
  {
   "cell_type": "markdown",
   "id": "b29ecaba",
   "metadata": {},
   "source": [
    "### Using variables in strings"
   ]
  },
  {
   "cell_type": "code",
   "execution_count": null,
   "id": "94b071ba",
   "metadata": {
    "ExecuteTime": {
     "end_time": "2023-07-11T17:24:15.480848Z",
     "start_time": "2023-07-11T17:24:15.474555Z"
    },
    "scrolled": false
   },
   "outputs": [],
   "source": [
    "first_name = \"leo\"\n",
    "last_name = \"lorenzo\"\n",
    "suffix = \"ii\"\n",
    "full_name = f\"{first_name} {last_name} {suffix}\"\n",
    "\n",
    "print(full_name)"
   ]
  },
  {
   "cell_type": "code",
   "execution_count": null,
   "id": "6dacae4b",
   "metadata": {
    "ExecuteTime": {
     "end_time": "2023-07-11T17:24:44.548143Z",
     "start_time": "2023-07-11T17:24:44.544724Z"
    }
   },
   "outputs": [],
   "source": [
    "print(\"{} {} {}\".format(first_name, last_name, suffix))"
   ]
  },
  {
   "cell_type": "code",
   "execution_count": null,
   "id": "1548a088",
   "metadata": {
    "ExecuteTime": {
     "end_time": "2023-07-11T17:32:11.262382Z",
     "start_time": "2023-07-11T17:32:11.259256Z"
    }
   },
   "outputs": [],
   "source": [
    "print(\"%s %s %s\"%(first_name, last_name, suffix))"
   ]
  },
  {
   "cell_type": "markdown",
   "id": "f9f4fc09",
   "metadata": {},
   "source": [
    "### Using user input"
   ]
  },
  {
   "cell_type": "code",
   "execution_count": null,
   "id": "01077e3a",
   "metadata": {
    "ExecuteTime": {
     "end_time": "2023-07-11T19:33:14.474593Z",
     "start_time": "2023-07-11T19:33:12.733159Z"
    }
   },
   "outputs": [],
   "source": [
    "name = input(\"What is your name? \")\n",
    "print(f\"Hello, {name}!\")"
   ]
  },
  {
   "cell_type": "markdown",
   "id": "eb9a297e",
   "metadata": {},
   "source": [
    "## 3 Numbers"
   ]
  },
  {
   "cell_type": "markdown",
   "id": "8d7cf644",
   "metadata": {},
   "source": [
    "Now, let's look at how numbers are defined in Python."
   ]
  },
  {
   "cell_type": "markdown",
   "id": "d9759d52",
   "metadata": {},
   "source": [
    "### Defining numbers"
   ]
  },
  {
   "cell_type": "markdown",
   "id": "41a40c9b",
   "metadata": {},
   "source": [
    "Numbers can be any of the following type:\n",
    "\n",
    "1. `int` - Integers (a number that is not a fraction; a whole number)\n",
    "2. `float` - Any number with a decimal float"
   ]
  },
  {
   "cell_type": "code",
   "execution_count": null,
   "id": "77a06855",
   "metadata": {
    "ExecuteTime": {
     "end_time": "2023-07-11T17:47:49.099318Z",
     "start_time": "2023-07-11T17:47:49.094695Z"
    }
   },
   "outputs": [],
   "source": [
    "1"
   ]
  },
  {
   "cell_type": "code",
   "execution_count": null,
   "id": "4aa5347f",
   "metadata": {
    "ExecuteTime": {
     "end_time": "2023-07-11T17:47:51.160884Z",
     "start_time": "2023-07-11T17:47:51.156670Z"
    }
   },
   "outputs": [],
   "source": [
    "type(1)"
   ]
  },
  {
   "cell_type": "code",
   "execution_count": null,
   "id": "811b8e04",
   "metadata": {
    "ExecuteTime": {
     "end_time": "2023-07-11T17:47:58.121593Z",
     "start_time": "2023-07-11T17:47:58.117209Z"
    }
   },
   "outputs": [],
   "source": [
    "type(1.)"
   ]
  },
  {
   "cell_type": "markdown",
   "id": "2e428b92",
   "metadata": {},
   "source": [
    "When you divide any two numbers, the result is always a float"
   ]
  },
  {
   "cell_type": "code",
   "execution_count": null,
   "id": "162cf072",
   "metadata": {
    "ExecuteTime": {
     "end_time": "2023-07-11T17:48:36.161409Z",
     "start_time": "2023-07-11T17:48:36.157198Z"
    }
   },
   "outputs": [],
   "source": [
    "1 / 1"
   ]
  },
  {
   "cell_type": "markdown",
   "id": "6250dc53",
   "metadata": {},
   "source": [
    "But you can force the output to be of a specific type by using the `float` or `int` functions"
   ]
  },
  {
   "cell_type": "code",
   "execution_count": null,
   "id": "ee66ebaa",
   "metadata": {
    "ExecuteTime": {
     "end_time": "2023-07-11T17:49:42.157549Z",
     "start_time": "2023-07-11T17:49:42.153351Z"
    }
   },
   "outputs": [],
   "source": [
    "int(1 / 1)"
   ]
  },
  {
   "cell_type": "markdown",
   "id": "82cbf9c8",
   "metadata": {},
   "source": [
    "To make numbers more readable, you can also use `_` to group digits."
   ]
  },
  {
   "cell_type": "code",
   "execution_count": null,
   "id": "981cc121",
   "metadata": {
    "ExecuteTime": {
     "end_time": "2023-07-11T17:50:38.051601Z",
     "start_time": "2023-07-11T17:50:38.047321Z"
    }
   },
   "outputs": [],
   "source": [
    "1_000_000_000"
   ]
  },
  {
   "cell_type": "markdown",
   "id": "f9725959",
   "metadata": {},
   "source": [
    "Or print them with a specific formatting"
   ]
  },
  {
   "cell_type": "code",
   "execution_count": null,
   "id": "bfd27f12",
   "metadata": {
    "ExecuteTime": {
     "end_time": "2023-07-11T17:51:45.942785Z",
     "start_time": "2023-07-11T17:51:45.937112Z"
    },
    "scrolled": true
   },
   "outputs": [],
   "source": [
    "large_number = 1_000_000_000\n",
    "print(f\"{large_number:,}\")"
   ]
  },
  {
   "cell_type": "markdown",
   "id": "ef8cc6b7",
   "metadata": {},
   "source": [
    "### Number operations"
   ]
  },
  {
   "cell_type": "markdown",
   "id": "b9543b3f",
   "metadata": {},
   "source": [
    "Here are some arithmetic operators that we can use with numeric values\n",
    "\n",
    "| Operator | Name |\n",
    "| ------ | ----- |\n",
    "| + | Addition |\n",
    "| - | Subtraction |\n",
    "| * | Multiplication |\n",
    "| / | Division |\n",
    "| % | Modulus |\n",
    "| ** | Exponentiation |\n",
    "| // | Floor division |"
   ]
  },
  {
   "cell_type": "code",
   "execution_count": null,
   "id": "5c49e081",
   "metadata": {
    "ExecuteTime": {
     "end_time": "2023-07-11T19:26:12.067740Z",
     "start_time": "2023-07-11T19:26:12.055912Z"
    }
   },
   "outputs": [],
   "source": [
    "9 - 3"
   ]
  },
  {
   "cell_type": "code",
   "execution_count": null,
   "id": "16746bff",
   "metadata": {
    "ExecuteTime": {
     "end_time": "2023-07-11T19:26:20.448106Z",
     "start_time": "2023-07-11T19:26:20.443898Z"
    }
   },
   "outputs": [],
   "source": [
    "8 * 2.5"
   ]
  },
  {
   "cell_type": "code",
   "execution_count": null,
   "id": "a816521e",
   "metadata": {
    "ExecuteTime": {
     "end_time": "2023-07-11T19:26:23.898052Z",
     "start_time": "2023-07-11T19:26:23.894019Z"
    }
   },
   "outputs": [],
   "source": [
    "9 / 2"
   ]
  },
  {
   "cell_type": "code",
   "execution_count": null,
   "id": "c389fb76",
   "metadata": {
    "ExecuteTime": {
     "end_time": "2023-07-11T19:26:26.924223Z",
     "start_time": "2023-07-11T19:26:26.918938Z"
    }
   },
   "outputs": [],
   "source": [
    "9 / -2"
   ]
  },
  {
   "cell_type": "code",
   "execution_count": null,
   "id": "1bde217a",
   "metadata": {
    "ExecuteTime": {
     "end_time": "2023-07-11T19:26:30.222782Z",
     "start_time": "2023-07-11T19:26:30.218917Z"
    }
   },
   "outputs": [],
   "source": [
    "9 // -2"
   ]
  },
  {
   "cell_type": "code",
   "execution_count": null,
   "id": "496ae66a",
   "metadata": {
    "ExecuteTime": {
     "end_time": "2023-07-11T19:26:58.458604Z",
     "start_time": "2023-07-11T19:26:58.454595Z"
    }
   },
   "outputs": [],
   "source": [
    "9 % 2"
   ]
  },
  {
   "cell_type": "code",
   "execution_count": null,
   "id": "0003191a",
   "metadata": {
    "ExecuteTime": {
     "end_time": "2023-07-11T19:27:03.946690Z",
     "start_time": "2023-07-11T19:27:03.942295Z"
    }
   },
   "outputs": [],
   "source": [
    "9.0 % 2"
   ]
  },
  {
   "cell_type": "code",
   "execution_count": null,
   "id": "620ea624",
   "metadata": {
    "ExecuteTime": {
     "end_time": "2023-07-11T19:27:19.125393Z",
     "start_time": "2023-07-11T19:27:19.121348Z"
    }
   },
   "outputs": [],
   "source": [
    "9 % 2.0"
   ]
  },
  {
   "cell_type": "code",
   "execution_count": null,
   "id": "43b4b211",
   "metadata": {
    "ExecuteTime": {
     "end_time": "2023-07-11T19:27:39.854971Z",
     "start_time": "2023-07-11T19:27:39.850936Z"
    }
   },
   "outputs": [],
   "source": [
    "-9 % 2"
   ]
  },
  {
   "cell_type": "code",
   "execution_count": null,
   "id": "7280bc2e",
   "metadata": {
    "ExecuteTime": {
     "end_time": "2023-07-11T19:29:25.175464Z",
     "start_time": "2023-07-11T19:29:25.171380Z"
    }
   },
   "outputs": [],
   "source": [
    "-9 % 4"
   ]
  },
  {
   "cell_type": "code",
   "execution_count": null,
   "id": "48f64a65",
   "metadata": {
    "ExecuteTime": {
     "end_time": "2023-07-11T19:29:44.325141Z",
     "start_time": "2023-07-11T19:29:44.320923Z"
    }
   },
   "outputs": [],
   "source": [
    "9 / -2.0"
   ]
  },
  {
   "cell_type": "code",
   "execution_count": null,
   "id": "cdb34f8e",
   "metadata": {
    "ExecuteTime": {
     "end_time": "2023-07-11T19:29:49.764154Z",
     "start_time": "2023-07-11T19:29:49.759930Z"
    }
   },
   "outputs": [],
   "source": [
    "4 + 3*5"
   ]
  },
  {
   "cell_type": "code",
   "execution_count": null,
   "id": "684f4690",
   "metadata": {
    "ExecuteTime": {
     "end_time": "2023-07-11T19:29:55.959109Z",
     "start_time": "2023-07-11T19:29:55.954738Z"
    }
   },
   "outputs": [],
   "source": [
    "(4 + 3)*5"
   ]
  },
  {
   "cell_type": "markdown",
   "id": "4d802e95",
   "metadata": {},
   "source": [
    "## 4 Hands-on Exercises"
   ]
  },
  {
   "cell_type": "markdown",
   "id": "029daeed",
   "metadata": {},
   "source": [
    "### Famous Quote"
   ]
  },
  {
   "cell_type": "markdown",
   "id": "7a863593",
   "metadata": {},
   "source": [
    "Find a famous quote from a famouse person you admire. Represent the famous person's name using a variable `famous_person`. Then compose your message and represent it with a new variable called `message`. Print your `message`.\n",
    "\n",
    "The output should look like the following (including the quotation marks):\n",
    "\n",
    "```\n",
    "Albert Einstein once said, \"A person who never made a mistake never tried anything new.\"\n",
    "```"
   ]
  },
  {
   "cell_type": "code",
   "execution_count": null,
   "id": "f82d28d9",
   "metadata": {
    "ExecuteTime": {
     "end_time": "2023-07-11T19:37:40.883334Z",
     "start_time": "2023-07-11T19:37:40.875914Z"
    }
   },
   "outputs": [],
   "source": []
  },
  {
   "cell_type": "markdown",
   "id": "630be415",
   "metadata": {},
   "source": [
    "### Temperature converter"
   ]
  },
  {
   "cell_type": "markdown",
   "id": "23def775",
   "metadata": {},
   "source": [
    "Create a code that takes in a user input `celsius_temp` in degrees celsius. Then convert this temperature value into the fahrenheit scale then represent it using a new variable called `fahrenheit_temp`. The conversion between degrees celsius and fahrenheit is shown by the equation below:\n",
    "\n",
    "\n",
    "$$\n",
    "F = \\frac{9}{5} C + 32\n",
    "$$"
   ]
  },
  {
   "cell_type": "code",
   "execution_count": null,
   "id": "dc50f39b",
   "metadata": {},
   "outputs": [],
   "source": []
  },
  {
   "cell_type": "markdown",
   "id": "6434dedc",
   "metadata": {},
   "source": [
    "### Measuring distances"
   ]
  },
  {
   "cell_type": "markdown",
   "id": "266a636c",
   "metadata": {},
   "source": [
    "Create a code that takes in from the user the coordinates of two points then prints the Pythagorean (euclidean) `distance` between the two points. Represent the x and y coordinate of the first point as `x1` and `y1`, while set `x2` and `y2` the coordinate of the second point."
   ]
  },
  {
   "cell_type": "code",
   "execution_count": null,
   "id": "267d3613",
   "metadata": {},
   "outputs": [],
   "source": []
  },
  {
   "cell_type": "markdown",
   "id": "4358fd80",
   "metadata": {},
   "source": [
    "### Time converter"
   ]
  },
  {
   "cell_type": "markdown",
   "id": "94729cc3",
   "metadata": {},
   "source": [
    "Create a code that accepts a user input `time` in seconds then displays this the value in minutes and seconds.\n",
    "\n",
    "For example, if the elapsed time was `130` seconds, the output would be\n",
    "\n",
    "```\n",
    "2 minutes 10 seconds\n",
    "```"
   ]
  },
  {
   "cell_type": "code",
   "execution_count": null,
   "id": "fb27dbcb",
   "metadata": {},
   "outputs": [],
   "source": []
  }
 ],
 "metadata": {
  "kernelspec": {
   "display_name": "Python 3 (ipykernel)",
   "language": "python",
   "name": "python3"
  },
  "language_info": {
   "codemirror_mode": {
    "name": "ipython",
    "version": 3
   },
   "file_extension": ".py",
   "mimetype": "text/x-python",
   "name": "python",
   "nbconvert_exporter": "python",
   "pygments_lexer": "ipython3",
   "version": "3.9.10"
  }
 },
 "nbformat": 4,
 "nbformat_minor": 5
}
