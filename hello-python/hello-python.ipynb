{
 "cells": [
  {
   "cell_type": "markdown",
   "id": "e2cbc731",
   "metadata": {
    "id": "e2cbc731"
   },
   "source": [
    "# Hello Python! 🐍\n",
    "\n",
    "Reference: Matthes, E. (2023). *Python crash course: A hands-on, project-based introduction to programming.*"
   ]
  },
  {
   "cell_type": "markdown",
   "id": "f3fcbc08",
   "metadata": {
    "id": "f3fcbc08"
   },
   "source": [
    "## 1 The Ceremonial `hello world!`"
   ]
  },
  {
   "cell_type": "markdown",
   "id": "90418e94",
   "metadata": {
    "id": "90418e94"
   },
   "source": [
    "Let us know perform the ceremonial printing of `hello world!` using python!"
   ]
  },
  {
   "cell_type": "markdown",
   "id": "9618e105",
   "metadata": {
    "id": "9618e105"
   },
   "source": [
    "### Approach 1"
   ]
  },
  {
   "cell_type": "markdown",
   "id": "7f5ec81d",
   "metadata": {
    "id": "7f5ec81d"
   },
   "source": [
    "```\n",
    "start\n",
    "print the string \"hello world!\"\n",
    "end\n",
    "```"
   ]
  },
  {
   "cell_type": "code",
   "execution_count": null,
   "id": "qTIx-1iFyllE",
   "metadata": {
    "id": "qTIx-1iFyllE"
   },
   "outputs": [],
   "source": [
    "print(\"something\")"
   ]
  },
  {
   "cell_type": "code",
   "execution_count": null,
   "id": "eb811409",
   "metadata": {
    "ExecuteTime": {
     "end_time": "2023-07-11T15:18:40.315253Z",
     "start_time": "2023-07-11T15:18:40.308142Z"
    },
    "id": "eb811409"
   },
   "outputs": [],
   "source": [
    "print(\"hello world!\")"
   ]
  },
  {
   "cell_type": "markdown",
   "id": "7a4cf9f9",
   "metadata": {
    "id": "7a4cf9f9"
   },
   "source": [
    "### Approach 2"
   ]
  },
  {
   "cell_type": "markdown",
   "id": "9ecb5b1d",
   "metadata": {
    "id": "9ecb5b1d"
   },
   "source": [
    "```\n",
    "start\n",
    "set `message` as `\"hello world!\"`\n",
    "print `message`\n",
    "end\n",
    "```"
   ]
  },
  {
   "cell_type": "code",
   "execution_count": null,
   "id": "0353670a",
   "metadata": {
    "ExecuteTime": {
     "end_time": "2023-07-11T15:40:28.029548Z",
     "start_time": "2023-07-11T15:40:28.020692Z"
    },
    "id": "0353670a"
   },
   "outputs": [],
   "source": [
    "message = \"hello world!\"\n",
    "print(message)"
   ]
  },
  {
   "cell_type": "markdown",
   "id": "6b690f3c",
   "metadata": {
    "id": "6b690f3c"
   },
   "source": [
    "The difference is that in approach 2, we've set the *variable* `message` with the value `\"hello world!\"` then printed the `message` in our notebook."
   ]
  },
  {
   "cell_type": "markdown",
   "id": "cb07668a",
   "metadata": {
    "id": "cb07668a"
   },
   "source": [
    "When we are using variables in Python, there are some rules and guidelines.\n",
    "\n",
    "1. Variable names can contain only letters, numbers, and underscores. They can start with a letter or an underscore, but not with a number. e.g., `message_1` is valid but `1_message` is not.\n",
    "2. Spaces are not allowed in variable names, but underscores can be used to separate words in variable names. e.g.,` greeting_message` works, but `greeting message` will cause errors.\n",
    "3. Avoid using Python keywords and function names as variable names; do not use words that Python has reserved for a particular purpose. e.g., `print`. See [Python Keywords](https://www.w3schools.com/python/python_ref_keywords.asp) for more examples.\n",
    "4. Variable names should be short but descriptive.\n",
    "5. Be careful when using lower case `l` and upper case `O`, because they can be confused with `1` and `0`."
   ]
  },
  {
   "cell_type": "markdown",
   "id": "3317d51d",
   "metadata": {
    "id": "3317d51d"
   },
   "source": [
    "## 2 Strings"
   ]
  },
  {
   "cell_type": "markdown",
   "id": "26138239",
   "metadata": {
    "id": "26138239"
   },
   "source": [
    "A *string* is a series of characters. We can define strings in python using single or double quotes."
   ]
  },
  {
   "cell_type": "markdown",
   "id": "11a8391f",
   "metadata": {
    "id": "11a8391f"
   },
   "source": [
    "### Defining strings"
   ]
  },
  {
   "cell_type": "code",
   "execution_count": null,
   "id": "94398496",
   "metadata": {
    "ExecuteTime": {
     "end_time": "2023-07-11T16:39:27.116825Z",
     "start_time": "2023-07-11T16:39:27.107861Z"
    },
    "id": "94398496"
   },
   "outputs": [],
   "source": [
    "\"This is a string\""
   ]
  },
  {
   "cell_type": "code",
   "execution_count": null,
   "id": "37b7cd4f",
   "metadata": {
    "ExecuteTime": {
     "end_time": "2023-07-11T16:39:30.906404Z",
     "start_time": "2023-07-11T16:39:30.902294Z"
    },
    "id": "37b7cd4f"
   },
   "outputs": [],
   "source": [
    "'This is a string'"
   ]
  },
  {
   "cell_type": "code",
   "execution_count": null,
   "id": "ce54853e",
   "metadata": {
    "ExecuteTime": {
     "end_time": "2023-07-11T16:40:28.505576Z",
     "start_time": "2023-07-11T16:40:28.501513Z"
    },
    "id": "ce54853e"
   },
   "outputs": [],
   "source": [
    "'I told my friend, \"My dream is to become a data science leader\"'"
   ]
  },
  {
   "cell_type": "code",
   "execution_count": null,
   "id": "7d00823d",
   "metadata": {
    "ExecuteTime": {
     "end_time": "2023-07-11T16:41:59.978986Z",
     "start_time": "2023-07-11T16:41:59.973173Z"
    },
    "id": "7d00823d"
   },
   "outputs": [],
   "source": [
    "\"The language 'Python' is named after Monty Python\""
   ]
  },
  {
   "cell_type": "markdown",
   "id": "b9bc4307",
   "metadata": {
    "id": "b9bc4307"
   },
   "source": [
    "### String operations"
   ]
  },
  {
   "cell_type": "markdown",
   "id": "8ec078be",
   "metadata": {
    "id": "8ec078be"
   },
   "source": [
    "Here are some other operations that you can do with strings:"
   ]
  },
  {
   "cell_type": "code",
   "execution_count": null,
   "id": "3b9cbd1d",
   "metadata": {
    "ExecuteTime": {
     "end_time": "2023-07-11T16:46:31.496052Z",
     "start_time": "2023-07-11T16:46:31.488228Z"
    },
    "id": "3b9cbd1d"
   },
   "outputs": [],
   "source": [
    "name = \"Leo Lorenzo II\"\n",
    "\n",
    "print(name.title())\n",
    "print(name.upper())\n",
    "print(name.lower())"
   ]
  },
  {
   "cell_type": "code",
   "execution_count": null,
   "id": "8d52d51f",
   "metadata": {
    "ExecuteTime": {
     "end_time": "2023-07-11T16:46:36.596711Z",
     "start_time": "2023-07-11T16:46:36.569185Z"
    },
    "id": "8d52d51f"
   },
   "outputs": [],
   "source": [
    "help(str)"
   ]
  },
  {
   "cell_type": "code",
   "execution_count": null,
   "id": "c11e26bb",
   "metadata": {
    "ExecuteTime": {
     "end_time": "2023-07-11T19:51:03.724631Z",
     "start_time": "2023-07-11T19:51:03.709311Z"
    },
    "id": "c11e26bb"
   },
   "outputs": [],
   "source": [
    "\"Leo\" + \" \" + \"Lorenzo\""
   ]
  },
  {
   "cell_type": "code",
   "execution_count": null,
   "id": "A6Fe_5JX0BcW",
   "metadata": {
    "id": "A6Fe_5JX0BcW"
   },
   "outputs": [],
   "source": [
    "\"1\" + \"6\""
   ]
  },
  {
   "cell_type": "markdown",
   "id": "b29ecaba",
   "metadata": {
    "id": "b29ecaba"
   },
   "source": [
    "### Using variables in strings"
   ]
  },
  {
   "cell_type": "code",
   "execution_count": null,
   "id": "94b071ba",
   "metadata": {
    "ExecuteTime": {
     "end_time": "2023-07-11T17:24:15.480848Z",
     "start_time": "2023-07-11T17:24:15.474555Z"
    },
    "id": "94b071ba",
    "scrolled": false
   },
   "outputs": [],
   "source": [
    "first_name = \"leo\"\n",
    "last_name = \"lorenzo\"\n",
    "suffix = \"ii\"\n",
    "full_name = f\"{first_name} {last_name} {suffix}\" # F-string\n",
    "\n",
    "print(full_name)"
   ]
  },
  {
   "cell_type": "code",
   "execution_count": null,
   "id": "6dacae4b",
   "metadata": {
    "ExecuteTime": {
     "end_time": "2023-07-11T17:24:44.548143Z",
     "start_time": "2023-07-11T17:24:44.544724Z"
    },
    "id": "6dacae4b"
   },
   "outputs": [],
   "source": [
    "print(\"{} {} {}\".format(first_name, last_name, suffix)) # format method"
   ]
  },
  {
   "cell_type": "code",
   "execution_count": null,
   "id": "1548a088",
   "metadata": {
    "ExecuteTime": {
     "end_time": "2023-07-11T17:32:11.262382Z",
     "start_time": "2023-07-11T17:32:11.259256Z"
    },
    "id": "1548a088"
   },
   "outputs": [],
   "source": [
    "print(\"%s %s %s\"%(first_name, last_name, suffix)) # traditional"
   ]
  },
  {
   "cell_type": "markdown",
   "id": "f9f4fc09",
   "metadata": {
    "id": "f9f4fc09"
   },
   "source": [
    "### Using user input"
   ]
  },
  {
   "cell_type": "code",
   "execution_count": null,
   "id": "bzfJMJEu05Tt",
   "metadata": {
    "id": "bzfJMJEu05Tt"
   },
   "outputs": [],
   "source": [
    "name = input(\"What is your name? \")"
   ]
  },
  {
   "cell_type": "code",
   "execution_count": null,
   "id": "h2LxgIB61FV7",
   "metadata": {
    "id": "h2LxgIB61FV7"
   },
   "outputs": [],
   "source": [
    "print(name)"
   ]
  },
  {
   "cell_type": "code",
   "execution_count": null,
   "id": "01077e3a",
   "metadata": {
    "ExecuteTime": {
     "end_time": "2023-07-11T19:33:14.474593Z",
     "start_time": "2023-07-11T19:33:12.733159Z"
    },
    "id": "01077e3a"
   },
   "outputs": [],
   "source": [
    "name = input(\"What is your name? \")\n",
    "print(f\"Hello, {name}!\")"
   ]
  },
  {
   "cell_type": "markdown",
   "id": "eb9a297e",
   "metadata": {
    "id": "eb9a297e"
   },
   "source": [
    "## 3 Numbers"
   ]
  },
  {
   "cell_type": "markdown",
   "id": "8d7cf644",
   "metadata": {
    "id": "8d7cf644"
   },
   "source": [
    "Now, let's look at how numbers are defined in Python."
   ]
  },
  {
   "cell_type": "markdown",
   "id": "d9759d52",
   "metadata": {
    "id": "d9759d52"
   },
   "source": [
    "### Defining numbers"
   ]
  },
  {
   "cell_type": "markdown",
   "id": "41a40c9b",
   "metadata": {
    "id": "41a40c9b"
   },
   "source": [
    "Numbers can be any of the following type:\n",
    "\n",
    "1. `int` - Integers (a number that is not a fraction; a whole number)\n",
    "2. `float` - Any number with a decimal point"
   ]
  },
  {
   "cell_type": "code",
   "execution_count": null,
   "id": "77a06855",
   "metadata": {
    "ExecuteTime": {
     "end_time": "2023-07-11T17:47:49.099318Z",
     "start_time": "2023-07-11T17:47:49.094695Z"
    },
    "id": "77a06855"
   },
   "outputs": [],
   "source": [
    "1"
   ]
  },
  {
   "cell_type": "code",
   "execution_count": null,
   "id": "KBCPOR3W1TmM",
   "metadata": {
    "id": "KBCPOR3W1TmM"
   },
   "outputs": [],
   "source": [
    "1."
   ]
  },
  {
   "cell_type": "code",
   "execution_count": null,
   "id": "4aa5347f",
   "metadata": {
    "ExecuteTime": {
     "end_time": "2023-07-11T17:47:51.160884Z",
     "start_time": "2023-07-11T17:47:51.156670Z"
    },
    "id": "4aa5347f"
   },
   "outputs": [],
   "source": [
    "type(1)"
   ]
  },
  {
   "cell_type": "code",
   "execution_count": null,
   "id": "811b8e04",
   "metadata": {
    "ExecuteTime": {
     "end_time": "2023-07-11T17:47:58.121593Z",
     "start_time": "2023-07-11T17:47:58.117209Z"
    },
    "id": "811b8e04"
   },
   "outputs": [],
   "source": [
    "type(1.)"
   ]
  },
  {
   "cell_type": "markdown",
   "id": "2e428b92",
   "metadata": {
    "id": "2e428b92"
   },
   "source": [
    "When you divide any two numbers, the result is always a float"
   ]
  },
  {
   "cell_type": "code",
   "execution_count": null,
   "id": "162cf072",
   "metadata": {
    "ExecuteTime": {
     "end_time": "2023-07-11T17:48:36.161409Z",
     "start_time": "2023-07-11T17:48:36.157198Z"
    },
    "id": "162cf072"
   },
   "outputs": [],
   "source": [
    "1 / 1"
   ]
  },
  {
   "cell_type": "markdown",
   "id": "6250dc53",
   "metadata": {
    "id": "6250dc53"
   },
   "source": [
    "But you can force the output to be of a specific type by using the `float` or `int` functions"
   ]
  },
  {
   "cell_type": "code",
   "execution_count": null,
   "id": "ee66ebaa",
   "metadata": {
    "ExecuteTime": {
     "end_time": "2023-07-11T17:49:42.157549Z",
     "start_time": "2023-07-11T17:49:42.153351Z"
    },
    "id": "ee66ebaa"
   },
   "outputs": [],
   "source": [
    "int(1 / 1)"
   ]
  },
  {
   "cell_type": "markdown",
   "id": "82cbf9c8",
   "metadata": {
    "id": "82cbf9c8"
   },
   "source": [
    "To make numbers more readable, you can also use `_` to group digits."
   ]
  },
  {
   "cell_type": "code",
   "execution_count": null,
   "id": "2fKK5h0I1ttb",
   "metadata": {
    "id": "2fKK5h0I1ttb"
   },
   "outputs": [],
   "source": [
    "1000000000"
   ]
  },
  {
   "cell_type": "code",
   "execution_count": null,
   "id": "981cc121",
   "metadata": {
    "ExecuteTime": {
     "end_time": "2023-07-11T17:50:38.051601Z",
     "start_time": "2023-07-11T17:50:38.047321Z"
    },
    "id": "981cc121"
   },
   "outputs": [],
   "source": [
    "1_000_000_000"
   ]
  },
  {
   "cell_type": "markdown",
   "id": "f9725959",
   "metadata": {
    "id": "f9725959"
   },
   "source": [
    "Or print them with a specific formatting"
   ]
  },
  {
   "cell_type": "code",
   "execution_count": null,
   "id": "bfd27f12",
   "metadata": {
    "ExecuteTime": {
     "end_time": "2023-07-11T17:51:45.942785Z",
     "start_time": "2023-07-11T17:51:45.937112Z"
    },
    "id": "bfd27f12",
    "scrolled": true
   },
   "outputs": [],
   "source": [
    "large_number = 1_000_000_000\n",
    "print(f\"{large_number:,}\")"
   ]
  },
  {
   "cell_type": "markdown",
   "id": "ef8cc6b7",
   "metadata": {
    "id": "ef8cc6b7"
   },
   "source": [
    "### Number operations"
   ]
  },
  {
   "cell_type": "markdown",
   "id": "b9543b3f",
   "metadata": {
    "id": "b9543b3f"
   },
   "source": [
    "Here are some arithmetic operators that we can use with numeric values\n",
    "\n",
    "| Operator | Name |\n",
    "| ------ | ----- |\n",
    "| + | Addition |\n",
    "| - | Subtraction |\n",
    "| * | Multiplication |\n",
    "| / | Division |\n",
    "| % | Modulus |\n",
    "| ** | Exponentiation |\n",
    "| // | Floor division |"
   ]
  },
  {
   "cell_type": "code",
   "execution_count": null,
   "id": "5c49e081",
   "metadata": {
    "ExecuteTime": {
     "end_time": "2023-07-11T19:26:12.067740Z",
     "start_time": "2023-07-11T19:26:12.055912Z"
    },
    "id": "5c49e081"
   },
   "outputs": [],
   "source": [
    "9 - 3"
   ]
  },
  {
   "cell_type": "code",
   "execution_count": null,
   "id": "16746bff",
   "metadata": {
    "ExecuteTime": {
     "end_time": "2023-07-11T19:26:20.448106Z",
     "start_time": "2023-07-11T19:26:20.443898Z"
    },
    "id": "16746bff"
   },
   "outputs": [],
   "source": [
    "8 * 2.5"
   ]
  },
  {
   "cell_type": "code",
   "execution_count": null,
   "id": "a816521e",
   "metadata": {
    "ExecuteTime": {
     "end_time": "2023-07-11T19:26:23.898052Z",
     "start_time": "2023-07-11T19:26:23.894019Z"
    },
    "id": "a816521e"
   },
   "outputs": [],
   "source": [
    "9 / 2"
   ]
  },
  {
   "cell_type": "code",
   "execution_count": null,
   "id": "c389fb76",
   "metadata": {
    "ExecuteTime": {
     "end_time": "2023-07-11T19:26:26.924223Z",
     "start_time": "2023-07-11T19:26:26.918938Z"
    },
    "id": "c389fb76"
   },
   "outputs": [],
   "source": [
    "9 / -2"
   ]
  },
  {
   "cell_type": "code",
   "execution_count": null,
   "id": "39fd1f77",
   "metadata": {
    "id": "39fd1f77"
   },
   "outputs": [],
   "source": [
    "9 // 2"
   ]
  },
  {
   "cell_type": "code",
   "execution_count": null,
   "id": "1bde217a",
   "metadata": {
    "ExecuteTime": {
     "end_time": "2023-07-11T19:26:30.222782Z",
     "start_time": "2023-07-11T19:26:30.218917Z"
    },
    "id": "1bde217a"
   },
   "outputs": [],
   "source": [
    "9 // -2"
   ]
  },
  {
   "cell_type": "code",
   "execution_count": null,
   "id": "496ae66a",
   "metadata": {
    "ExecuteTime": {
     "end_time": "2023-07-11T19:26:58.458604Z",
     "start_time": "2023-07-11T19:26:58.454595Z"
    },
    "id": "496ae66a"
   },
   "outputs": [],
   "source": [
    "9 % 2"
   ]
  },
  {
   "cell_type": "code",
   "execution_count": null,
   "id": "0003191a",
   "metadata": {
    "ExecuteTime": {
     "end_time": "2023-07-11T19:27:03.946690Z",
     "start_time": "2023-07-11T19:27:03.942295Z"
    },
    "id": "0003191a"
   },
   "outputs": [],
   "source": [
    "9.0 % 2"
   ]
  },
  {
   "cell_type": "code",
   "execution_count": null,
   "id": "620ea624",
   "metadata": {
    "ExecuteTime": {
     "end_time": "2023-07-11T19:27:19.125393Z",
     "start_time": "2023-07-11T19:27:19.121348Z"
    },
    "id": "620ea624"
   },
   "outputs": [],
   "source": [
    "9 % 2.0"
   ]
  },
  {
   "cell_type": "code",
   "execution_count": null,
   "id": "43b4b211",
   "metadata": {
    "ExecuteTime": {
     "end_time": "2023-07-11T19:27:39.854971Z",
     "start_time": "2023-07-11T19:27:39.850936Z"
    },
    "id": "43b4b211"
   },
   "outputs": [],
   "source": [
    "-9 % 2"
   ]
  },
  {
   "cell_type": "code",
   "execution_count": null,
   "id": "sOTZAYgm2gzg",
   "metadata": {
    "id": "sOTZAYgm2gzg"
   },
   "outputs": [],
   "source": [
    "9 % 4"
   ]
  },
  {
   "cell_type": "code",
   "execution_count": null,
   "id": "7280bc2e",
   "metadata": {
    "ExecuteTime": {
     "end_time": "2023-07-11T19:29:25.175464Z",
     "start_time": "2023-07-11T19:29:25.171380Z"
    },
    "id": "7280bc2e"
   },
   "outputs": [],
   "source": [
    "-9 % 4"
   ]
  },
  {
   "cell_type": "code",
   "execution_count": null,
   "id": "1foOdJIz2qnf",
   "metadata": {
    "id": "1foOdJIz2qnf"
   },
   "outputs": [],
   "source": [
    "6 - (9 % 6)"
   ]
  },
  {
   "cell_type": "code",
   "execution_count": null,
   "id": "Y7uaxnl82sre",
   "metadata": {
    "id": "Y7uaxnl82sre"
   },
   "outputs": [],
   "source": [
    "-9 % 6"
   ]
  },
  {
   "cell_type": "code",
   "execution_count": null,
   "id": "Dwfc66tv2nBm",
   "metadata": {
    "id": "Dwfc66tv2nBm"
   },
   "outputs": [],
   "source": [
    "4 - (9 % 4)"
   ]
  },
  {
   "cell_type": "code",
   "execution_count": null,
   "id": "48f64a65",
   "metadata": {
    "ExecuteTime": {
     "end_time": "2023-07-11T19:29:44.325141Z",
     "start_time": "2023-07-11T19:29:44.320923Z"
    },
    "id": "48f64a65"
   },
   "outputs": [],
   "source": [
    "9 / -2.0"
   ]
  },
  {
   "cell_type": "code",
   "execution_count": null,
   "id": "cdb34f8e",
   "metadata": {
    "ExecuteTime": {
     "end_time": "2023-07-11T19:29:49.764154Z",
     "start_time": "2023-07-11T19:29:49.759930Z"
    },
    "id": "cdb34f8e"
   },
   "outputs": [],
   "source": [
    "4 + 3*5"
   ]
  },
  {
   "cell_type": "code",
   "execution_count": null,
   "id": "684f4690",
   "metadata": {
    "ExecuteTime": {
     "end_time": "2023-07-11T19:29:55.959109Z",
     "start_time": "2023-07-11T19:29:55.954738Z"
    },
    "id": "684f4690"
   },
   "outputs": [],
   "source": [
    "(4 + 3)*5"
   ]
  },
  {
   "cell_type": "markdown",
   "id": "4d802e95",
   "metadata": {
    "id": "4d802e95"
   },
   "source": [
    "## 4 Hands-on Exercises"
   ]
  },
  {
   "cell_type": "markdown",
   "id": "029daeed",
   "metadata": {
    "id": "029daeed"
   },
   "source": [
    "### Famous Quote"
   ]
  },
  {
   "cell_type": "markdown",
   "id": "7a863593",
   "metadata": {
    "id": "7a863593"
   },
   "source": [
    "Find a famous quote from a famouse person you admire. Represent the famous person's name using a variable `famous_person`. Then compose your message and represent it with a new variable called `message`. Print your `message`.\n",
    "\n",
    "The output should look like the following (including the quotation marks):\n",
    "\n",
    "```\n",
    "Albert Einstein once said, \"A person who never made a mistake never tried anything new.\"\n",
    "```"
   ]
  },
  {
   "cell_type": "code",
   "execution_count": null,
   "id": "f82d28d9",
   "metadata": {
    "ExecuteTime": {
     "end_time": "2023-07-11T19:37:40.883334Z",
     "start_time": "2023-07-11T19:37:40.875914Z"
    },
    "id": "f82d28d9"
   },
   "outputs": [],
   "source": []
  },
  {
   "cell_type": "markdown",
   "id": "630be415",
   "metadata": {
    "id": "630be415"
   },
   "source": [
    "### Temperature converter"
   ]
  },
  {
   "cell_type": "markdown",
   "id": "23def775",
   "metadata": {
    "id": "23def775"
   },
   "source": [
    "Create a code that takes in a user input `celsius_temp` in degrees celsius. Then convert this temperature value into the fahrenheit scale then represent it using a new variable called `fahrenheit_temp`. The conversion between degrees celsius and fahrenheit is shown by the equation below:\n",
    "\n",
    "\n",
    "$$\n",
    "F = \\frac{9}{5} C + 32\n",
    "$$"
   ]
  },
  {
   "cell_type": "code",
   "execution_count": null,
   "id": "dc50f39b",
   "metadata": {
    "id": "dc50f39b"
   },
   "outputs": [],
   "source": [
    "celsius_temp = float(input(\"Input temperature in celsius: \"))\n",
    "fahrenheit_temp = 9 / 5 * celsius_temp + 32\n",
    "print(fahrenheit_temp)"
   ]
  },
  {
   "cell_type": "markdown",
   "id": "6434dedc",
   "metadata": {
    "id": "6434dedc"
   },
   "source": [
    "### Measuring distances"
   ]
  },
  {
   "cell_type": "markdown",
   "id": "266a636c",
   "metadata": {
    "id": "266a636c"
   },
   "source": [
    "Create a code that takes in from the user the coordinates of two points then prints the Pythagorean (euclidean) `distance` between the two points. Represent the x and y coordinate of the first point as `x1` and `y1`, while set `x2` and `y2` the coordinate of the second point."
   ]
  },
  {
   "cell_type": "code",
   "execution_count": null,
   "id": "267d3613",
   "metadata": {
    "id": "267d3613"
   },
   "outputs": [],
   "source": []
  },
  {
   "cell_type": "markdown",
   "id": "4358fd80",
   "metadata": {
    "id": "4358fd80"
   },
   "source": [
    "### Time converter"
   ]
  },
  {
   "cell_type": "markdown",
   "id": "94729cc3",
   "metadata": {
    "id": "94729cc3"
   },
   "source": [
    "Create a code that accepts a user input `time_secs` in seconds then displays this the value in minutes and seconds.\n",
    "\n",
    "For example, if the elapsed time was `130` seconds, the output would be\n",
    "\n",
    "```\n",
    "2 minutes 10 seconds\n",
    "```"
   ]
  },
  {
   "cell_type": "code",
   "execution_count": null,
   "id": "Dt6OuP-gAnqu",
   "metadata": {
    "id": "Dt6OuP-gAnqu"
   },
   "outputs": [],
   "source": []
  },
  {
   "cell_type": "markdown",
   "id": "Vi7G205yAgBy",
   "metadata": {
    "id": "Vi7G205yAgBy"
   },
   "source": [
    "<div class=\"alert alert-info\">\n",
    "\n",
    "**Submit your work!**\n",
    "\n",
    "For those who want to submit their work and receive feedback, please upload your notebooks to: https://tinyurl.com/bsdsba-bridging-gdrive\n",
    "\n",
    "In your Google Colab, click `File` > `Download` > `Download .ipynb`. Rename your notebooks as: `lastname_firstname.ipynb`. For example, `donato_patriciarose.ipynb`\n",
    "\n",
    "Hope you enjoyed your first session! ☺️\n",
    "\n",
    "</div>"
   ]
  }
 ],
 "metadata": {
  "colab": {
   "provenance": []
  },
  "kernelspec": {
   "display_name": "Python 3 (ipykernel)",
   "language": "python",
   "name": "python3"
  },
  "language_info": {
   "codemirror_mode": {
    "name": "ipython",
    "version": 3
   },
   "file_extension": ".py",
   "mimetype": "text/x-python",
   "name": "python",
   "nbconvert_exporter": "python",
   "pygments_lexer": "ipython3",
   "version": "3.8.13"
  }
 },
 "nbformat": 4,
 "nbformat_minor": 5
}
