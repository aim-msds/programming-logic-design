{
 "cells": [
  {
   "cell_type": "markdown",
   "id": "5236bcb5",
   "metadata": {},
   "source": [
    "# Text Generation using Markov Chains <a class='tocSkip'>"
   ]
  },
  {
   "cell_type": "markdown",
   "id": "ac1aafed",
   "metadata": {},
   "source": [
    "<img src='images/cover.jpeg' width=550/>\n",
    "\n",
    "In this notebook, we will demonstrate how we can use the concept of Markov chains to generate texts automatically given a seed text input. To do this, we need a corpus of text containing sentences which we will use as training data for our Markov chain model. We will use three different datasets to create our Markov chain model.\n",
    "\n",
    "1. [NLTK Shakespeare corpus](https://www.nltk.org/howto/corpus.html#shakespeare) - contains a set of Shakespeare plays.\n",
    "2. [NLTK Reuters Corpus](https://www.nltk.org/book/ch02.html)- contains 10,788 news documents totalling 1.3 million words.\n",
    "3. Our own input text, whether it's your favorite song, poem, or novel."
   ]
  },
  {
   "cell_type": "code",
   "execution_count": null,
   "id": "2375c8de",
   "metadata": {},
   "outputs": [],
   "source": [
    "!wget https://raw.githubusercontent.com/aim-msds/bsdsba-trial-lectures/main/language-modeling/markov.py\n",
    "!wget https://raw.githubusercontent.com/aim-msds/bsdsba-trial-lectures/main/language-modeling/utils.py"
   ]
  },
  {
   "cell_type": "markdown",
   "id": "10ee0d56",
   "metadata": {},
   "source": [
    "## Solution Pipeline"
   ]
  },
  {
   "cell_type": "markdown",
   "id": "e46f60f9",
   "metadata": {},
   "source": [
    "We will first discuss how we can use the code to perform the solution pipeline that we've done using by hand. This involves objects and functions that have been coded for you before hand that does the logic of creating all the possible states then solving for transition probabilities as the Markov Chain model changes from one state to another."
   ]
  },
  {
   "cell_type": "code",
   "execution_count": null,
   "id": "72a0cc1c",
   "metadata": {
    "ExecuteTime": {
     "end_time": "2023-04-15T00:50:14.097367Z",
     "start_time": "2023-04-15T00:50:12.851523Z"
    }
   },
   "outputs": [],
   "source": [
    "from markov import MarkovChain\n",
    "from utils import create_corpus"
   ]
  },
  {
   "cell_type": "markdown",
   "id": "77d0d7e9",
   "metadata": {},
   "source": [
    "### The `MarkovChain` object"
   ]
  },
  {
   "cell_type": "markdown",
   "id": "c14b2556",
   "metadata": {},
   "source": [
    "The core of our solution is the `MarkovChain` object. By adding to it any given corpus, it will perform automatically all the logic that we did by hand through the use of the different *methods* defined in it."
   ]
  },
  {
   "cell_type": "code",
   "execution_count": null,
   "id": "53ad8b70",
   "metadata": {
    "ExecuteTime": {
     "end_time": "2023-04-15T00:50:19.667711Z",
     "start_time": "2023-04-15T00:50:19.665027Z"
    }
   },
   "outputs": [],
   "source": [
    "model = MarkovChain()"
   ]
  },
  {
   "cell_type": "code",
   "execution_count": null,
   "id": "1df953f4",
   "metadata": {
    "ExecuteTime": {
     "end_time": "2023-04-15T00:54:56.079642Z",
     "start_time": "2023-04-15T00:54:56.064893Z"
    },
    "scrolled": true
   },
   "outputs": [],
   "source": [
    "help(MarkovChain)"
   ]
  },
  {
   "cell_type": "markdown",
   "id": "9ce5fc63",
   "metadata": {},
   "source": [
    "### The `create_corpus` function"
   ]
  },
  {
   "cell_type": "markdown",
   "id": "000597a5",
   "metadata": {},
   "source": [
    "The create corpus function helps us prepare the data in such a way that the `MarkovChain` object expects."
   ]
  },
  {
   "cell_type": "code",
   "execution_count": null,
   "id": "acaeacb9",
   "metadata": {
    "ExecuteTime": {
     "end_time": "2023-04-15T00:50:21.108897Z",
     "start_time": "2023-04-15T00:50:21.099280Z"
    }
   },
   "outputs": [],
   "source": [
    "corpus = create_corpus(\"\"\"\n",
    "In this age of data influx, I will be a data science leader and help pioneer the use of data science in the country.\n",
    "\"\"\")\n",
    "\n",
    "corpus"
   ]
  },
  {
   "cell_type": "markdown",
   "id": "0ba42a00",
   "metadata": {},
   "source": [
    "### The `add_corpus`, `trans_probability`, and `next_word` method"
   ]
  },
  {
   "cell_type": "markdown",
   "id": "8a84cd5c",
   "metadata": {},
   "source": [
    "After the data has been prepared by the `create_corpus`, we can use `MarkovChain`'s `add_corpus` method to add the data to the model."
   ]
  },
  {
   "cell_type": "code",
   "execution_count": null,
   "id": "c321f660",
   "metadata": {
    "ExecuteTime": {
     "end_time": "2023-04-15T00:50:49.217428Z",
     "start_time": "2023-04-15T00:50:49.213126Z"
    }
   },
   "outputs": [],
   "source": [
    "model.add_corpus(corpus)"
   ]
  },
  {
   "cell_type": "markdown",
   "id": "9adc84e5",
   "metadata": {},
   "source": [
    "Adding the data to the model would place in the model's memory the different current and future possible state pairs. This in turn can be used to compute for the transition probabilities of each state given a current state."
   ]
  },
  {
   "cell_type": "code",
   "execution_count": null,
   "id": "13127698",
   "metadata": {
    "ExecuteTime": {
     "end_time": "2023-04-15T01:03:52.648502Z",
     "start_time": "2023-04-15T01:03:52.640137Z"
    }
   },
   "outputs": [],
   "source": [
    "model.trans_probability(['data'])"
   ]
  },
  {
   "cell_type": "markdown",
   "id": "8b93d6ca",
   "metadata": {},
   "source": [
    "Afterwards we can use the `next_word` to allow the model to *evolve* and generate the next word according to its transition probabilities given its current state."
   ]
  },
  {
   "cell_type": "code",
   "execution_count": null,
   "id": "40a83adf",
   "metadata": {
    "ExecuteTime": {
     "end_time": "2023-04-15T00:51:16.332587Z",
     "start_time": "2023-04-15T00:51:16.308296Z"
    }
   },
   "outputs": [],
   "source": [
    "for i in range(10):\n",
    "    print(i + 1, model.next_word(['data']))"
   ]
  },
  {
   "cell_type": "markdown",
   "id": "687d1b9b",
   "metadata": {},
   "source": [
    "### The `bigrams` mode"
   ]
  },
  {
   "cell_type": "markdown",
   "id": "9cd71166",
   "metadata": {},
   "source": [
    "We can further scale the model by defining *bigrams*, i.e. two words, instead of *unigrams* as our state. We can do this by changing the mode of the `MarkovChain` object to be `bigrams`."
   ]
  },
  {
   "cell_type": "code",
   "execution_count": null,
   "id": "2d2b978c",
   "metadata": {
    "ExecuteTime": {
     "end_time": "2023-04-15T01:07:55.662688Z",
     "start_time": "2023-04-15T01:07:55.658645Z"
    }
   },
   "outputs": [],
   "source": [
    "bigrams_model = MarkovChain(mode='bigrams')"
   ]
  },
  {
   "cell_type": "code",
   "execution_count": null,
   "id": "91bf26d2",
   "metadata": {
    "ExecuteTime": {
     "end_time": "2023-04-15T01:07:37.084115Z",
     "start_time": "2023-04-15T01:07:37.071151Z"
    }
   },
   "outputs": [],
   "source": [
    "corpus"
   ]
  },
  {
   "cell_type": "code",
   "execution_count": null,
   "id": "dccb944c",
   "metadata": {
    "ExecuteTime": {
     "end_time": "2023-04-15T01:07:58.514430Z",
     "start_time": "2023-04-15T01:07:58.510706Z"
    }
   },
   "outputs": [],
   "source": [
    "bigrams_model.add_corpus(corpus)"
   ]
  },
  {
   "cell_type": "code",
   "execution_count": null,
   "id": "64a1749c",
   "metadata": {
    "ExecuteTime": {
     "end_time": "2023-04-15T01:08:42.376124Z",
     "start_time": "2023-04-15T01:08:42.367184Z"
    }
   },
   "outputs": [],
   "source": [
    "bigrams_model.trans_probability(['data', 'science'])"
   ]
  },
  {
   "cell_type": "code",
   "execution_count": null,
   "id": "07c8f41e",
   "metadata": {
    "ExecuteTime": {
     "end_time": "2023-04-15T01:09:05.925790Z",
     "start_time": "2023-04-15T01:09:05.916552Z"
    }
   },
   "outputs": [],
   "source": [
    "bigrams_model.trans_probability(['and', 'help'])"
   ]
  },
  {
   "cell_type": "markdown",
   "id": "9f3c04ca",
   "metadata": {},
   "source": [
    "## Deploying to Larger Datasets"
   ]
  },
  {
   "cell_type": "markdown",
   "id": "03caa5ca",
   "metadata": {},
   "source": [
    "Let us now use our solution to create an AI writer using larger datasets as its training data."
   ]
  },
  {
   "cell_type": "code",
   "execution_count": null,
   "id": "8a5d1e7b",
   "metadata": {
    "ExecuteTime": {
     "end_time": "2023-04-15T01:18:05.717887Z",
     "start_time": "2023-04-15T01:18:05.635961Z"
    }
   },
   "outputs": [],
   "source": [
    "import nltk\n",
    "from nltk.corpus import reuters\n",
    "nltk.download('punkt')\n",
    "nltk.download('reuters')\n",
    "\n",
    "from utils import get_shakespeare_sents"
   ]
  },
  {
   "cell_type": "markdown",
   "id": "70020442",
   "metadata": {},
   "source": [
    "Here, we'll use two datasets from the [NLTK library](https://www.nltk.org/) as our training data, namely, (1) Shakespeare's plays and (2) Reuters' news dataset."
   ]
  },
  {
   "cell_type": "code",
   "execution_count": null,
   "id": "b3c7cddc",
   "metadata": {
    "ExecuteTime": {
     "end_time": "2023-04-15T01:18:06.782798Z",
     "start_time": "2023-04-15T01:18:06.542446Z"
    },
    "scrolled": false
   },
   "outputs": [],
   "source": [
    "shakespeare_sents = get_shakespeare_sents()"
   ]
  },
  {
   "cell_type": "code",
   "execution_count": null,
   "id": "60554ba5",
   "metadata": {
    "ExecuteTime": {
     "end_time": "2023-04-15T01:18:06.791608Z",
     "start_time": "2023-04-15T01:18:06.784029Z"
    }
   },
   "outputs": [],
   "source": [
    "print(f\"Number of sentences: {len(shakespeare_sents)}\")\n",
    "print(f\"Number of words: {sum([len(sentence) for sentence in shakespeare_sents])}\")\n",
    "[' '.join(sentence) for sentence in shakespeare_sents[50:70]]"
   ]
  },
  {
   "cell_type": "code",
   "execution_count": null,
   "id": "6c7afa01",
   "metadata": {
    "ExecuteTime": {
     "end_time": "2023-04-15T01:18:07.290455Z",
     "start_time": "2023-04-15T01:18:07.015695Z"
    }
   },
   "outputs": [],
   "source": [
    "reuters_sents = reuters.sents()"
   ]
  },
  {
   "cell_type": "code",
   "execution_count": null,
   "id": "5451b7bd",
   "metadata": {
    "ExecuteTime": {
     "end_time": "2023-04-15T01:18:11.294176Z",
     "start_time": "2023-04-15T01:18:07.499192Z"
    }
   },
   "outputs": [],
   "source": [
    "print(f\"Number of sentences: {len(reuters_sents)}\")\n",
    "print(f\"Number of words: {sum([len(sentence) for sentence in reuters_sents])}\")\n",
    "[' '.join(sentence) for sentence in reuters_sents[:10]]"
   ]
  },
  {
   "cell_type": "code",
   "execution_count": null,
   "id": "a45008d9",
   "metadata": {
    "ExecuteTime": {
     "end_time": "2023-04-15T01:18:11.296793Z",
     "start_time": "2023-04-15T01:18:11.295360Z"
    }
   },
   "outputs": [],
   "source": [
    "reuters_model = MarkovChain(mode='bigrams')\n",
    "shakespeare_model = MarkovChain(mode='bigrams')"
   ]
  },
  {
   "cell_type": "code",
   "execution_count": null,
   "id": "4877a3a5",
   "metadata": {
    "ExecuteTime": {
     "end_time": "2023-04-15T01:18:15.919395Z",
     "start_time": "2023-04-15T01:18:11.297449Z"
    }
   },
   "outputs": [],
   "source": [
    "reuters_model.add_corpus(reuters_sents)\n",
    "shakespeare_model.add_corpus(shakespeare_sents)"
   ]
  },
  {
   "cell_type": "code",
   "execution_count": null,
   "id": "e51b06cd",
   "metadata": {
    "ExecuteTime": {
     "end_time": "2023-04-15T01:18:15.927458Z",
     "start_time": "2023-04-15T01:18:15.922998Z"
    }
   },
   "outputs": [],
   "source": [
    "shakespeare_model.trans_probability(['I', 'love'])"
   ]
  },
  {
   "cell_type": "markdown",
   "id": "615b05bb",
   "metadata": {},
   "source": [
    "*From Act 3, Scene 1 of Julius Caesar*\n",
    "\n",
    "```\n",
    "Caesar was mighty, bold, royal, and loving. Say I love Brutus and I honor him;. Say I feared Caesar, honored him, and loved him.\n",
    "```"
   ]
  },
  {
   "cell_type": "code",
   "execution_count": null,
   "id": "313d7be4",
   "metadata": {
    "ExecuteTime": {
     "end_time": "2023-04-15T01:18:15.936931Z",
     "start_time": "2023-04-15T01:18:15.928384Z"
    }
   },
   "outputs": [],
   "source": [
    "reuters_model.trans_probability(['said', 'a'])"
   ]
  },
  {
   "cell_type": "code",
   "execution_count": null,
   "id": "af873847",
   "metadata": {
    "ExecuteTime": {
     "end_time": "2023-04-15T01:18:29.202852Z",
     "start_time": "2023-04-15T01:18:29.127241Z"
    },
    "scrolled": true
   },
   "outputs": [],
   "source": [
    "for i in range(10):\n",
    "    print(i + 1, shakespeare_model.generate_sentence(['I', 'love']))"
   ]
  },
  {
   "cell_type": "code",
   "execution_count": null,
   "id": "0f420138",
   "metadata": {
    "ExecuteTime": {
     "end_time": "2023-04-15T01:18:40.555694Z",
     "start_time": "2023-04-15T01:18:40.330548Z"
    },
    "scrolled": true
   },
   "outputs": [],
   "source": [
    "for i in range(10):\n",
    "    print(i + 1, reuters_model.generate_sentence(['said', 'a']))"
   ]
  },
  {
   "cell_type": "markdown",
   "id": "74353180",
   "metadata": {},
   "source": [
    "## Hands on activity: Using your own text"
   ]
  },
  {
   "cell_type": "markdown",
   "id": "024bfa94",
   "metadata": {},
   "source": [
    "Now that we've seen how the pipeline works! We have even created an AI writer when traind to larger datasets! Let's feed it with a text of our own. Place here any text that you can find from the internet (or maybe craft your own), to create our AI writer!"
   ]
  },
  {
   "cell_type": "code",
   "execution_count": null,
   "id": "9a0c2b71",
   "metadata": {
    "ExecuteTime": {
     "end_time": "2023-04-14T15:42:40.780029Z",
     "start_time": "2023-04-14T15:42:40.769448Z"
    }
   },
   "outputs": [],
   "source": [
    "corpus = create_corpus(\"\"\"\n",
    "Took a morning ride to the place\n",
    "Where you and I were supposed to meet\n",
    "The city yawns, they echo on\n",
    "My thoughts are spinning on and on my head\n",
    "It seems, they lead me back to you, ooh\n",
    "I keep coming back to you\n",
    "Took a morning ride, found a place up in my mind\n",
    "No one else can see\n",
    "Maybe, it's fate that we lose control\n",
    "In circles around, we go\n",
    "We become who we ought to know\n",
    "We just gotta let it go\n",
    "We just gotta let it go\n",
    "So, I'm coming home to you, ooh-ooh, ooh-ooh-ooh-ooh-ooh-ooh\n",
    "You, ooh-ooh, ooh-ooh-ooh-ooh-ooh-ooh\n",
    "You're all I need, the very air I breathe\n",
    "You are home, home\n",
    "Took a morning ride, gotta leave this all behind\n",
    "For with you is where I want to be\n",
    "Maybe, it's fate that we can't control (fate that we can't control)\n",
    "Oh, around and around, it goes ('round and around, it goes)\n",
    "And all that we seem to know (all that we seem to know)\n",
    "We just gotta let it go\n",
    "We just gotta let it go\n",
    "So, I'm coming home to you, ooh-ooh, ooh-ooh-ooh-ooh-ooh-ooh\n",
    "You, ooh-ooh, ooh-ooh-ooh-ooh-ooh-ooh\n",
    "You're all I need, the very air I breathe\n",
    "You are home, home\n",
    "So many questions I've thrown to the skies\n",
    "And all of the answers, I've found in your eyes\n",
    "When I'm with you, home is never too far\n",
    "And my weary heart has come to rest in yours\n",
    "I found my way home\n",
    "I found my way home\n",
    "I found my way home\n",
    "I found my way home\n",
    "I found my way home, I found my way home\n",
    "I found my way home, I found my way home\n",
    "I found my way home, I found my way home\n",
    "I found my way home\n",
    "So, I'm coming home to you, ooh-ooh, ooh-ooh-ooh-ooh-ooh-ooh\n",
    "You, ooh-ooh, ooh-ooh-ooh-ooh-ooh-ooh\n",
    "You're all I need, the very air I breathe\n",
    "You are home, home\n",
    "Coming home to you, ooh-ooh, ooh-ooh-ooh-ooh-ooh-ooh\n",
    "You, ooh-ooh, ooh-ooh-ooh-ooh-ooh-ooh\n",
    "You're all I need, the very air I breathe\n",
    "You are home\n",
    "\"\"\")"
   ]
  },
  {
   "cell_type": "code",
   "execution_count": null,
   "id": "65c709ff",
   "metadata": {
    "ExecuteTime": {
     "end_time": "2023-04-14T15:42:42.551488Z",
     "start_time": "2023-04-14T15:42:42.543771Z"
    }
   },
   "outputs": [],
   "source": [
    "my_model = MarkovChain(mode='unigrams')\n",
    "my_model.add_corpus(corpus)"
   ]
  },
  {
   "cell_type": "code",
   "execution_count": null,
   "id": "61199dbc",
   "metadata": {
    "ExecuteTime": {
     "end_time": "2023-04-14T15:42:49.592644Z",
     "start_time": "2023-04-14T15:42:49.539971Z"
    },
    "scrolled": false
   },
   "outputs": [],
   "source": [
    "my_model.generate_sentence(['I'])"
   ]
  },
  {
   "cell_type": "markdown",
   "id": "a2b0dd9b",
   "metadata": {},
   "source": [
    "### Guide Questions"
   ]
  },
  {
   "cell_type": "markdown",
   "id": "a8e54226",
   "metadata": {},
   "source": [
    "1. **An AI writer or an AI parrot?** Try to generate text using the above pipeline. What can you observe as to how the way the AI writer generates text? Can you predict as to how the AI would generate text given any current state?\n",
    "2. **A translingual AI writer** What will happen if we feed to it texts from different languages. How will our AI writer generate new texts? Will it be able to generate text from a different language from its current state?\n",
    "3. **Going beyond bigrams** Suppose that we instead consider trigrams or quadgrams as our definition of a state, will our AI writer be able to write better sentences? What problems might occur?\n",
    "4. **Other improvements** Can you think of other ways in which we can improve the AI writer?"
   ]
  }
 ],
 "metadata": {
  "kernelspec": {
   "display_name": "Python 3 (ipykernel)",
   "language": "python",
   "name": "python3"
  },
  "language_info": {
   "codemirror_mode": {
    "name": "ipython",
    "version": 3
   },
   "file_extension": ".py",
   "mimetype": "text/x-python",
   "name": "python",
   "nbconvert_exporter": "python",
   "pygments_lexer": "ipython3",
   "version": "3.9.10"
  },
  "toc": {
   "base_numbering": 1,
   "nav_menu": {},
   "number_sections": true,
   "sideBar": true,
   "skip_h1_title": false,
   "title_cell": "Table of Contents",
   "title_sidebar": "Contents",
   "toc_cell": false,
   "toc_position": {},
   "toc_section_display": true,
   "toc_window_display": false
  }
 },
 "nbformat": 4,
 "nbformat_minor": 5
}
