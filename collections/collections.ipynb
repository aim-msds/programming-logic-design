{
 "cells": [
  {
   "cell_type": "markdown",
   "id": "85109dd6",
   "metadata": {},
   "source": [
    "# Storing and Processing Collections of Data"
   ]
  },
  {
   "cell_type": "markdown",
   "id": "fd21a27a",
   "metadata": {},
   "source": [
    "References:\n",
    "\n",
    "[1] Gries, P., Campbell, J., & Montojo, J. (2017). *Practical programming: an introduction to computer science using Python 3.6.* Pragmatic Bookshelf.\n",
    "\n",
    "[2] Matthes, E. (2023). *Python crash course: A hands-on, project-based introduction to programming.*"
   ]
  },
  {
   "cell_type": "markdown",
   "id": "377fb72f",
   "metadata": {},
   "source": [
    "Up until this point, we have seen several data types in python such as strings, functions, and other numerical data types. In this notebook, we introduce lists and dictionaries. Which allow you to store sets of information in one place.\n",
    "\n",
    "Both of these types are very powerful features readily accessible to new programmers, and they help tie together many important concepts in programming."
   ]
  },
  {
   "cell_type": "markdown",
   "id": "e9c3d791",
   "metadata": {},
   "source": [
    "## 1 Lists"
   ]
  },
  {
   "cell_type": "markdown",
   "id": "7a6c5d1d",
   "metadata": {},
   "source": [
    "A *list* is a collection of items in a particular order. We can put anything inside a list and the items in the list don't have to be related in any particular way.\n",
    "\n",
    "In Python, to define a list we use the square brackets `[]` and individual elements in the list are separated by commas. Since lists usually contain more than one element, it's a good idea to make the name of the list plural, such as `letters`, `digits`, or `names`."
   ]
  },
  {
   "cell_type": "markdown",
   "id": "0b89dc4b",
   "metadata": {},
   "source": [
    "**Example**: A list that contains a few kinds of bicycles"
   ]
  },
  {
   "cell_type": "code",
   "execution_count": null,
   "id": "4cf90c73",
   "metadata": {
    "ExecuteTime": {
     "end_time": "2023-07-12T10:28:18.694523Z",
     "start_time": "2023-07-12T10:28:18.687172Z"
    }
   },
   "outputs": [],
   "source": [
    "bicycles = ['trek', 'cannondale', 'redline', 'specialized']\n",
    "print(bicycles)"
   ]
  },
  {
   "cell_type": "markdown",
   "id": "b5987915",
   "metadata": {},
   "source": [
    "### Accessing elements in a list"
   ]
  },
  {
   "cell_type": "markdown",
   "id": "0b631a37",
   "metadata": {},
   "source": [
    "Lists are ordered collections, thus, we can access any element by telling the Python the position, or *index*, of the item desired.\n",
    "\n",
    "*Note: always remember that Python considers the first item in a list to be at position 0 not position 1*\n",
    "\n",
    "For example, to pull out the first bicycle in our list `bicycles` we do:"
   ]
  },
  {
   "cell_type": "code",
   "execution_count": null,
   "id": "90f2d68f",
   "metadata": {
    "ExecuteTime": {
     "end_time": "2023-07-12T10:30:08.387849Z",
     "start_time": "2023-07-12T10:30:08.383196Z"
    }
   },
   "outputs": [],
   "source": [
    "print(bicycles[0])"
   ]
  },
  {
   "cell_type": "markdown",
   "id": "b456fd70",
   "metadata": {},
   "source": [
    "Python also has a special syntax for accessing the last element in the list. We can use the index `-1` to get the last item in the list.\n",
    "\n",
    "The index `-2` returns the second item from the end of the list, the index `-3` returns the third, and so forth."
   ]
  },
  {
   "cell_type": "code",
   "execution_count": null,
   "id": "e469ea82",
   "metadata": {
    "ExecuteTime": {
     "end_time": "2023-07-12T10:31:38.290078Z",
     "start_time": "2023-07-12T10:31:38.277419Z"
    }
   },
   "outputs": [],
   "source": [
    "print(bicycles[-1])"
   ]
  },
  {
   "cell_type": "markdown",
   "id": "673ceede",
   "metadata": {},
   "source": [
    "You can also access a subset of a list by *slicing* it. To make a slice, specify the first and last elements you want to work with. Python stops one item before the second index you specify."
   ]
  },
  {
   "cell_type": "code",
   "execution_count": null,
   "id": "b68ad387",
   "metadata": {
    "ExecuteTime": {
     "end_time": "2023-07-12T10:44:37.562573Z",
     "start_time": "2023-07-12T10:44:37.554205Z"
    }
   },
   "outputs": [],
   "source": [
    "print(bicycles)"
   ]
  },
  {
   "cell_type": "code",
   "execution_count": null,
   "id": "d6748354",
   "metadata": {
    "ExecuteTime": {
     "end_time": "2023-07-12T10:44:47.150360Z",
     "start_time": "2023-07-12T10:44:47.146571Z"
    }
   },
   "outputs": [],
   "source": [
    "print(bicycles[0:2])"
   ]
  },
  {
   "cell_type": "markdown",
   "id": "daefd952",
   "metadata": {},
   "source": [
    "### Changing, Adding, and Removing Elements"
   ]
  },
  {
   "cell_type": "markdown",
   "id": "0739f510",
   "metadata": {},
   "source": [
    "To modify an item in the list, we can access first the element of a list then perform an assignment operation to the new value you want the item to have."
   ]
  },
  {
   "cell_type": "code",
   "execution_count": null,
   "id": "62be0ca2",
   "metadata": {
    "ExecuteTime": {
     "end_time": "2023-07-12T10:34:12.726430Z",
     "start_time": "2023-07-12T10:34:12.719513Z"
    }
   },
   "outputs": [],
   "source": [
    "motorcycles = ['honda', 'yamaha', 'suzuki']\n",
    "print(motorcycles)"
   ]
  },
  {
   "cell_type": "code",
   "execution_count": null,
   "id": "c3030921",
   "metadata": {
    "ExecuteTime": {
     "end_time": "2023-07-12T10:34:28.675872Z",
     "start_time": "2023-07-12T10:34:28.672199Z"
    }
   },
   "outputs": [],
   "source": [
    "motorcycles[0] = 'ducati'\n",
    "print(motorcycles)"
   ]
  },
  {
   "cell_type": "markdown",
   "id": "b9f80c68",
   "metadata": {},
   "source": [
    "Aside from modifying the elements, we can also *append* a new item to the list."
   ]
  },
  {
   "cell_type": "code",
   "execution_count": null,
   "id": "f49a3f15",
   "metadata": {
    "ExecuteTime": {
     "end_time": "2023-07-12T10:35:34.329922Z",
     "start_time": "2023-07-12T10:35:34.326121Z"
    }
   },
   "outputs": [],
   "source": [
    "motorcycles.append('honda')\n",
    "print(motorcycles)"
   ]
  },
  {
   "cell_type": "markdown",
   "id": "b5b2bb79",
   "metadata": {},
   "source": [
    "Another way to do this is to extend the list using another list"
   ]
  },
  {
   "cell_type": "code",
   "execution_count": null,
   "id": "768093b3",
   "metadata": {
    "ExecuteTime": {
     "end_time": "2023-07-12T10:36:34.940396Z",
     "start_time": "2023-07-12T10:36:34.931730Z"
    }
   },
   "outputs": [],
   "source": [
    "motorcycles.extend(['kawasaki', 'triumph'])\n",
    "print(motorcycles)"
   ]
  },
  {
   "cell_type": "markdown",
   "id": "bbda3718",
   "metadata": {},
   "source": [
    "You can also insert a specific element at a specific location on a list using the `insert` method. Here, we specify the element to be inserted and the specific index in which we wish to place it."
   ]
  },
  {
   "cell_type": "code",
   "execution_count": null,
   "id": "35165fb0",
   "metadata": {
    "ExecuteTime": {
     "end_time": "2023-07-12T10:39:31.762850Z",
     "start_time": "2023-07-12T10:39:31.758820Z"
    }
   },
   "outputs": [],
   "source": [
    "motorcycles.insert(3, 'bmw')\n",
    "print(motorcycles)"
   ]
  },
  {
   "cell_type": "markdown",
   "id": "5d1cb993",
   "metadata": {},
   "source": [
    "To remove an element, we can use the `del` statement to delete a specific element in the list."
   ]
  },
  {
   "cell_type": "code",
   "execution_count": null,
   "id": "45b80825",
   "metadata": {
    "ExecuteTime": {
     "end_time": "2023-07-12T10:40:25.770856Z",
     "start_time": "2023-07-12T10:40:25.764461Z"
    },
    "scrolled": true
   },
   "outputs": [],
   "source": [
    "del motorcycles[1]\n",
    "print(motorcycles)"
   ]
  },
  {
   "cell_type": "markdown",
   "id": "d59f3a94",
   "metadata": {},
   "source": [
    "Another way to do this is the `pop` method. The difference is that it returns the value of the removed item in addition to removing it."
   ]
  },
  {
   "cell_type": "code",
   "execution_count": null,
   "id": "1135452e",
   "metadata": {
    "ExecuteTime": {
     "end_time": "2023-07-12T10:41:27.082381Z",
     "start_time": "2023-07-12T10:41:27.078048Z"
    },
    "scrolled": true
   },
   "outputs": [],
   "source": [
    "print(motorcycles)"
   ]
  },
  {
   "cell_type": "code",
   "execution_count": null,
   "id": "915c6b66",
   "metadata": {
    "ExecuteTime": {
     "end_time": "2023-07-12T10:41:51.233581Z",
     "start_time": "2023-07-12T10:41:51.229226Z"
    }
   },
   "outputs": [],
   "source": [
    "popped_motorcycle = motorcycles.pop(-1)\n",
    "print(motorcycles)\n",
    "print(popped_motorcycle)"
   ]
  },
  {
   "cell_type": "markdown",
   "id": "b5ff1a22",
   "metadata": {},
   "source": [
    "### Organizing a List"
   ]
  },
  {
   "cell_type": "markdown",
   "id": "b8ffa086",
   "metadata": {},
   "source": [
    "If we want to permanently sort a list, we use its `sort` method."
   ]
  },
  {
   "cell_type": "code",
   "execution_count": null,
   "id": "05c66fee",
   "metadata": {
    "ExecuteTime": {
     "end_time": "2023-07-12T10:47:40.465335Z",
     "start_time": "2023-07-12T10:47:40.459465Z"
    }
   },
   "outputs": [],
   "source": [
    "print(motorcycles)"
   ]
  },
  {
   "cell_type": "code",
   "execution_count": null,
   "id": "83203561",
   "metadata": {
    "ExecuteTime": {
     "end_time": "2023-07-12T10:47:54.831449Z",
     "start_time": "2023-07-12T10:47:54.827315Z"
    }
   },
   "outputs": [],
   "source": [
    "motorcycles.sort()\n",
    "print(motorcycles)"
   ]
  },
  {
   "cell_type": "markdown",
   "id": "19fe19cb",
   "metadata": {},
   "source": [
    "By specifying the `reverse` parameter as `True`, we can sort the items in descending order. "
   ]
  },
  {
   "cell_type": "code",
   "execution_count": null,
   "id": "a791fc37",
   "metadata": {
    "ExecuteTime": {
     "end_time": "2023-07-12T10:48:41.289538Z",
     "start_time": "2023-07-12T10:48:41.285030Z"
    }
   },
   "outputs": [],
   "source": [
    "motorcycles.sort(reverse=True)\n",
    "print(motorcycles)"
   ]
  },
  {
   "cell_type": "markdown",
   "id": "b2387d18",
   "metadata": {},
   "source": [
    "You can also sort a list temporarily using the `sorted` function."
   ]
  },
  {
   "cell_type": "code",
   "execution_count": null,
   "id": "89fb5d60",
   "metadata": {
    "ExecuteTime": {
     "end_time": "2023-07-12T10:49:51.102175Z",
     "start_time": "2023-07-12T10:49:51.094912Z"
    }
   },
   "outputs": [],
   "source": [
    "motorcycles = ['ducati', 'suzuki', 'bmw', 'honda', 'kawasaki']\n",
    "\n",
    "print(f\"Original order: {motorcycles}\")\n",
    "print(f\"Sorted order: {sorted(motorcycles)}\")\n",
    "print(f\"After sorted operation: {motorcycles}\")"
   ]
  },
  {
   "cell_type": "markdown",
   "id": "09bc2a96",
   "metadata": {},
   "source": [
    "To get the number of elements in a list we can also use the built-in function `len`."
   ]
  },
  {
   "cell_type": "code",
   "execution_count": null,
   "id": "54635edc",
   "metadata": {
    "ExecuteTime": {
     "end_time": "2023-07-12T10:51:03.753640Z",
     "start_time": "2023-07-12T10:51:03.749452Z"
    }
   },
   "outputs": [],
   "source": [
    "print(len(motorcycles))"
   ]
  },
  {
   "cell_type": "markdown",
   "id": "0dedba54",
   "metadata": {},
   "source": [
    "## 2 Dictionaries"
   ]
  },
  {
   "cell_type": "markdown",
   "id": "03d0b4a3",
   "metadata": {},
   "source": [
    "Unlike list which stores a collection of data which are not necessarily related with each other, *dictionaries* enables us to store a collection of data with some related information. For example, we can create a dictionary representing a person then store as much information as we want about that person such as their name, age, location, and profession.\n",
    "\n",
    "To define a dictionary, we use curly brackets `{}` then use `:` to denote a correspondence between information. Elements in the dictionary are separate by `,` just like lists."
   ]
  },
  {
   "cell_type": "code",
   "execution_count": null,
   "id": "94ba530a",
   "metadata": {
    "ExecuteTime": {
     "end_time": "2023-07-12T11:02:22.836536Z",
     "start_time": "2023-07-12T11:02:22.830328Z"
    }
   },
   "outputs": [],
   "source": [
    "instructor = {'name': 'Leo', 'age': '30+', 'location': 'Quezon City'}"
   ]
  },
  {
   "cell_type": "markdown",
   "id": "cb56e3f0",
   "metadata": {},
   "source": [
    "A dictionary is a collection of *key-value* pairs. Each *key* is connected to a value, and you can use a key to access the value associated with that key. The *value* of a particular *key* can be of any type, however, *keys* should be types that are *immutable*. Meaning, their values cannot be change by assignment."
   ]
  },
  {
   "cell_type": "markdown",
   "id": "f055339b",
   "metadata": {},
   "source": [
    "### Accessing values in a dictionary"
   ]
  },
  {
   "cell_type": "markdown",
   "id": "0d4dd223",
   "metadata": {},
   "source": [
    "To get the value associated with a key, we give the name of the dictionary then place the key inside the square brackes after it."
   ]
  },
  {
   "cell_type": "code",
   "execution_count": null,
   "id": "b1a75a2f",
   "metadata": {
    "ExecuteTime": {
     "end_time": "2023-07-12T11:03:37.937894Z",
     "start_time": "2023-07-12T11:03:37.930325Z"
    }
   },
   "outputs": [],
   "source": [
    "instructor['name']"
   ]
  },
  {
   "cell_type": "markdown",
   "id": "c2bd8f3b",
   "metadata": {},
   "source": [
    "We can also use the `get()` method to access values. This is much safer than just indexing a particular key since you can specify a default output if the key does not exist in the dictionary."
   ]
  },
  {
   "cell_type": "code",
   "execution_count": null,
   "id": "8a574e8a",
   "metadata": {
    "ExecuteTime": {
     "end_time": "2023-07-12T11:09:39.286761Z",
     "start_time": "2023-07-12T11:09:39.281687Z"
    }
   },
   "outputs": [],
   "source": [
    "instructor.get('name')"
   ]
  },
  {
   "cell_type": "code",
   "execution_count": null,
   "id": "f0d45e2e",
   "metadata": {
    "ExecuteTime": {
     "end_time": "2023-07-12T11:09:09.280283Z",
     "start_time": "2023-07-12T11:09:09.251132Z"
    }
   },
   "outputs": [],
   "source": [
    "instructor['favorite_food']"
   ]
  },
  {
   "cell_type": "code",
   "execution_count": null,
   "id": "a3bebe9b",
   "metadata": {
    "ExecuteTime": {
     "end_time": "2023-07-12T11:10:05.534555Z",
     "start_time": "2023-07-12T11:10:05.529929Z"
    }
   },
   "outputs": [],
   "source": [
    "instructor.get('favorite_food', 'Pizza')"
   ]
  },
  {
   "cell_type": "markdown",
   "id": "7c5c5958",
   "metadata": {},
   "source": [
    "### Changing, Adding, and Removing Elements"
   ]
  },
  {
   "cell_type": "markdown",
   "id": "5438ba27",
   "metadata": {},
   "source": [
    "To change the value of a specific key pair, we can perform an assignment operation."
   ]
  },
  {
   "cell_type": "code",
   "execution_count": null,
   "id": "e283f6f7",
   "metadata": {
    "ExecuteTime": {
     "end_time": "2023-07-12T11:05:02.304569Z",
     "start_time": "2023-07-12T11:05:02.297519Z"
    }
   },
   "outputs": [],
   "source": [
    "instructor['location'] = 'Makati City'\n",
    "print(instructor)"
   ]
  },
  {
   "cell_type": "markdown",
   "id": "445472b0",
   "metadata": {},
   "source": [
    "To add an element to our dictionary, we can perform an assignment to a key with no corresponding value."
   ]
  },
  {
   "cell_type": "code",
   "execution_count": null,
   "id": "9f30e15e",
   "metadata": {
    "ExecuteTime": {
     "end_time": "2023-07-12T11:06:01.044510Z",
     "start_time": "2023-07-12T11:06:01.040503Z"
    }
   },
   "outputs": [],
   "source": [
    "instructor['profession'] = 'Data Scientist'\n",
    "print(instructor)"
   ]
  },
  {
   "cell_type": "markdown",
   "id": "dbdaef3a",
   "metadata": {},
   "source": [
    "To remove a piece of information, we use the `del` operator."
   ]
  },
  {
   "cell_type": "code",
   "execution_count": null,
   "id": "9f7e868d",
   "metadata": {
    "ExecuteTime": {
     "end_time": "2023-07-12T11:07:08.302126Z",
     "start_time": "2023-07-12T11:07:08.295176Z"
    }
   },
   "outputs": [],
   "source": [
    "del instructor['profession']\n",
    "print(instructor)"
   ]
  },
  {
   "cell_type": "markdown",
   "id": "9506820e",
   "metadata": {},
   "source": [
    "### Nesting"
   ]
  },
  {
   "cell_type": "markdown",
   "id": "778430b4",
   "metadata": {},
   "source": [
    "Sometimes you'll want to store multiple dictionaries in a list, or a list of items as a value in a dictionary. This is called *nesting*. Nesting is a powerful feature as it allows you to store related information more concisely."
   ]
  },
  {
   "cell_type": "code",
   "execution_count": null,
   "id": "865d12f4",
   "metadata": {
    "ExecuteTime": {
     "end_time": "2023-07-12T11:18:18.346187Z",
     "start_time": "2023-07-12T11:18:18.340175Z"
    }
   },
   "outputs": [],
   "source": [
    "instructors = {\n",
    "    'leo': {'full_name': 'Leodegario Lorenzo II',\n",
    "            'age': '30+',\n",
    "            'location': 'Quezon City',\n",
    "            'favorite_foods': ['Ramen', 'Pizza', 'Curry']},\n",
    "    'pat': {'full_name': 'Patricia Rose Donato',\n",
    "            'age': '20+',\n",
    "            'location': 'Makati City',\n",
    "            'favorite_foods': ['Takoyaki', 'Matcha', 'Ramen']}\n",
    "}"
   ]
  },
  {
   "cell_type": "code",
   "execution_count": null,
   "id": "551bb13a",
   "metadata": {
    "ExecuteTime": {
     "end_time": "2023-07-12T11:18:19.003320Z",
     "start_time": "2023-07-12T11:18:18.998445Z"
    }
   },
   "outputs": [],
   "source": [
    "instructors['leo']"
   ]
  },
  {
   "cell_type": "code",
   "execution_count": null,
   "id": "dce505c4",
   "metadata": {
    "ExecuteTime": {
     "end_time": "2023-07-12T11:18:23.052535Z",
     "start_time": "2023-07-12T11:18:23.047978Z"
    }
   },
   "outputs": [],
   "source": [
    "instructors['leo']['favorite_foods']"
   ]
  },
  {
   "cell_type": "code",
   "execution_count": null,
   "id": "ccf7e0af",
   "metadata": {
    "ExecuteTime": {
     "end_time": "2023-07-12T11:18:30.715297Z",
     "start_time": "2023-07-12T11:18:30.710314Z"
    }
   },
   "outputs": [],
   "source": [
    "instructors['pat']['favorite_foods']"
   ]
  },
  {
   "cell_type": "markdown",
   "id": "0a2cff78",
   "metadata": {},
   "source": [
    "## 3 Hands-on Exercises"
   ]
  },
  {
   "cell_type": "markdown",
   "id": "ed154e0e",
   "metadata": {},
   "source": [
    "### Getting to know each other"
   ]
  },
  {
   "cell_type": "markdown",
   "id": "a2f90a25",
   "metadata": {},
   "source": [
    "Create a dictionary named `classmates` then use at least three names of your classmate as keys in the dictionary. Store information such as `favorite_places`, `favorite_food`, etc. for each person."
   ]
  },
  {
   "cell_type": "code",
   "execution_count": null,
   "id": "56ee8789",
   "metadata": {},
   "outputs": [],
   "source": []
  },
  {
   "cell_type": "markdown",
   "id": "c5de18cc",
   "metadata": {},
   "source": [
    "### Nested list"
   ]
  },
  {
   "cell_type": "markdown",
   "id": "67c3d2a6",
   "metadata": {},
   "source": [
    "Refer to the variable `units` shown below which refers to a nested list."
   ]
  },
  {
   "cell_type": "code",
   "execution_count": null,
   "id": "b252e723",
   "metadata": {
    "ExecuteTime": {
     "end_time": "2023-07-12T11:27:14.869954Z",
     "start_time": "2023-07-12T11:27:14.860456Z"
    }
   },
   "outputs": [],
   "source": [
    "units = [['km', 'miles', 'league'], ['kg', 'pound', 'stone']]"
   ]
  },
  {
   "cell_type": "markdown",
   "id": "50cd8e74",
   "metadata": {},
   "source": [
    "Write expressions that produce teh following:"
   ]
  },
  {
   "cell_type": "markdown",
   "id": "14a22a39",
   "metadata": {},
   "source": [
    "1. The first item of `units` (the first inner list)\n",
    "2. The last item of `units` (the last inner list)\n",
    "3. The string `km`\n",
    "4. The string `kg`\n",
    "5. The list `['miles', 'league']`\n",
    "6. The list `['kg', 'pound']`\n",
    "7. The list `['km', 'stone']`"
   ]
  },
  {
   "cell_type": "code",
   "execution_count": null,
   "id": "519beffb",
   "metadata": {
    "ExecuteTime": {
     "end_time": "2023-07-12T11:29:42.643627Z",
     "start_time": "2023-07-12T11:29:42.637493Z"
    }
   },
   "outputs": [],
   "source": []
  },
  {
   "cell_type": "markdown",
   "id": "9a253e36",
   "metadata": {},
   "source": [
    "### Draw a card"
   ]
  },
  {
   "cell_type": "markdown",
   "id": "94fd0c1c",
   "metadata": {},
   "source": [
    "Create a function `draw_card()` which simulates you to randomly drawing a card in a standard 52-deck. The function should not accept any parameters but should return a string representing the card that was drawn, including its suit and rank.\n",
    "\n",
    "Example output:\n",
    "\n",
    "```\n",
    ">>> draw_card()\n",
    "'Jack of Spades'\n",
    "```\n",
    "\n",
    "*Hint: Use the `choice` method of the `random` library*"
   ]
  },
  {
   "cell_type": "code",
   "execution_count": null,
   "id": "457994c3",
   "metadata": {},
   "outputs": [],
   "source": []
  },
  {
   "cell_type": "markdown",
   "id": "d1e0990d",
   "metadata": {},
   "source": [
    "<div class=\"alert alert-info\">\n",
    "\n",
    "**Submit your work!**\n",
    "\n",
    "For those who want to submit their work and receive feedback, please upload your notebooks to: https://tinyurl.com/bsdsba-bridging-gdrive\n",
    "\n",
    "In your Google Colab, click `File` > `Download` > `Download .ipynb`. Rename your notebooks as: `lastname_firstname.ipynb`. For example, `donato_patriciarose.ipynb` then place it in the `Session 2 Part 2` directory.\n",
    "\n",
    "Hope you enjoyed the second part of your second session! ☺️\n",
    "\n",
    "</div>"
   ]
  }
 ],
 "metadata": {
  "kernelspec": {
   "display_name": "Python 3 (ipykernel)",
   "language": "python",
   "name": "python3"
  },
  "language_info": {
   "codemirror_mode": {
    "name": "ipython",
    "version": 3
   },
   "file_extension": ".py",
   "mimetype": "text/x-python",
   "name": "python",
   "nbconvert_exporter": "python",
   "pygments_lexer": "ipython3",
   "version": "3.9.10"
  }
 },
 "nbformat": 4,
 "nbformat_minor": 5
}
