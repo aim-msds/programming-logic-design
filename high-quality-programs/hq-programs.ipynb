{
 "cells": [
  {
   "cell_type": "markdown",
   "id": "5ccde3c8",
   "metadata": {},
   "source": [
    "# Elements of High-Quality Programs"
   ]
  },
  {
   "cell_type": "markdown",
   "id": "71879011",
   "metadata": {},
   "source": [
    "References:\n",
    "\n",
    "[1] Gries, P., Campbell, J., & Montojo, J. (2017). *Practical programming: an introduction to computer science using Python 3.6.* Pragmatic Bookshelf.\n",
    "\n",
    "[2] Matthes, E. (2023). *Python crash course: A hands-on, project-based introduction to programming.*"
   ]
  },
  {
   "cell_type": "markdown",
   "id": "81ed3770",
   "metadata": {},
   "source": [
    "## 1 Functions in Python"
   ]
  },
  {
   "cell_type": "markdown",
   "id": "cc2c838c",
   "metadata": {},
   "source": [
    "One way to improve the modularity of your code is to adhere to the **DRY** principle, which means *Don't repeat yourself*. In other words, whenever you found yourself doing the same thing over and over again, do consider replacing it with abstraction or modules to avoid redundancy in your code."
   ]
  },
  {
   "cell_type": "markdown",
   "id": "6776e523",
   "metadata": {},
   "source": [
    "### Defining functions in Python"
   ]
  },
  {
   "cell_type": "markdown",
   "id": "e9831fca",
   "metadata": {},
   "source": [
    "Say for example we have a friend that lives in the other side of the world (United States), and you're always talking about the weather and how hot it is in your respective place. The US typically uses `Fahrenheit` as their unit of temperature measurement, thus, we typically need to convert fahrenheit to celcius and back a lot. It would be nice to be able to do convert these units easily given any number."
   ]
  },
  {
   "cell_type": "code",
   "execution_count": null,
   "id": "0f8fb1e2",
   "metadata": {
    "ExecuteTime": {
     "end_time": "2023-07-12T08:40:27.844290Z",
     "start_time": "2023-07-12T08:40:27.840128Z"
    }
   },
   "outputs": [],
   "source": [
    "def convert_to_fahrenheit(celsius):\n",
    "    \"\"\"Convert a given temperature in celsius to fahrenheit\"\"\"\n",
    "    fahrenheit = 9/5*celsius + 32\n",
    "\n",
    "    return fahrenheit\n",
    "\n",
    "def convert_to_celsius(fahrenheit):\n",
    "    \"\"\"Convert a given temperature in fahrenheit to celsius\"\"\"\n",
    "    celsius = (fahrenheit - 32) * 5/9\n",
    "\n",
    "    return celsius"
   ]
  },
  {
   "cell_type": "markdown",
   "id": "188eef5d",
   "metadata": {},
   "source": [
    "The above code block are examples of *function definitions* in Python. Here the *function body* which contains the code that will be executed upon function *call* is indented.\n",
    "\n",
    "The first line of the function definition is called the *function header*. which contains the *function name* and its corresponding *parameters*. Parameters are values that the function needs to execute the code block defined inside it. We input it upon *calling* the function.\n",
    "\n",
    "The general form of a function definitoin is as follows:\n",
    "\n",
    "```python\n",
    "def <<function_name>>(<<parameters>>):\n",
    "    <<function_body>>\n",
    "```"
   ]
  },
  {
   "cell_type": "code",
   "execution_count": null,
   "id": "a383fd76",
   "metadata": {
    "ExecuteTime": {
     "end_time": "2023-07-12T08:40:28.292277Z",
     "start_time": "2023-07-12T08:40:28.287262Z"
    }
   },
   "outputs": [],
   "source": [
    "convert_to_celsius(98.6)"
   ]
  },
  {
   "cell_type": "code",
   "execution_count": null,
   "id": "46115d07",
   "metadata": {
    "ExecuteTime": {
     "end_time": "2023-07-12T08:40:28.680210Z",
     "start_time": "2023-07-12T08:40:28.675718Z"
    }
   },
   "outputs": [],
   "source": [
    "convert_to_fahrenheit(29.0)"
   ]
  },
  {
   "cell_type": "markdown",
   "id": "d1f210b7",
   "metadata": {},
   "source": [
    "Most function definitions have a `return` statement, that when executed, ends the function and produces a *value*.\n",
    "\n",
    "```python\n",
    "return <<expression>>\n",
    "```\n",
    "\n",
    "When Python executes a `return` statement, it evaluates the expression then produces the result of that expression as the result of the function call."
   ]
  },
  {
   "cell_type": "markdown",
   "id": "2c05a5ab",
   "metadata": {},
   "source": [
    "### Using Local Variables for Temporary Storage"
   ]
  },
  {
   "cell_type": "markdown",
   "id": "f0652085",
   "metadata": {},
   "source": [
    "Another very common operation that we do in our academic life is solving the roots of a quadratic polynomial $ax^2 + bx + c$ using the quadratic formula $\\frac{-b \\pm \\sqrt{b^2 - 4ac}}{2a}$. Let's define this as the function `quadratic_formula` to demonstrate local variables:"
   ]
  },
  {
   "cell_type": "code",
   "execution_count": null,
   "id": "cfd501be",
   "metadata": {
    "ExecuteTime": {
     "end_time": "2023-07-12T08:40:31.589885Z",
     "start_time": "2023-07-12T08:40:31.585404Z"
    }
   },
   "outputs": [],
   "source": [
    "def quadratic_formula(a, b, c):\n",
    "    \"\"\"Compute for the roots of a quadratic polynomial using the\n",
    "    quadratic formula\"\"\"\n",
    "    root_1 = (-b + (b**2 - 4*a*c)**0.5) / (2*a)\n",
    "    root_2 = (-b - (b**2 - 4*a*c)**0.5) / 2 / a\n",
    "\n",
    "    return root_1, root_2"
   ]
  },
  {
   "cell_type": "markdown",
   "id": "01ab9abe",
   "metadata": {},
   "source": [
    "**Example**: Solve for the roots of the polynomial $x^2 + x - 6$"
   ]
  },
  {
   "cell_type": "code",
   "execution_count": null,
   "id": "74c39c96",
   "metadata": {
    "ExecuteTime": {
     "end_time": "2023-07-12T08:40:33.062381Z",
     "start_time": "2023-07-12T08:40:33.057300Z"
    }
   },
   "outputs": [],
   "source": [
    "quadratic_formula(1, 1, -6)"
   ]
  },
  {
   "cell_type": "code",
   "execution_count": null,
   "id": "653e2627",
   "metadata": {
    "ExecuteTime": {
     "end_time": "2023-07-12T08:40:38.241314Z",
     "start_time": "2023-07-12T08:40:38.217628Z"
    }
   },
   "outputs": [],
   "source": [
    "root_1"
   ]
  },
  {
   "cell_type": "markdown",
   "id": "2365cb84",
   "metadata": {},
   "source": [
    "`root_1` and `root_2` are local variables that are defined only inside the function definition. Thus, we get an error if we try to use them outside of a function definition.\n",
    "\n",
    "The area of a program that can be used in is called the variable's *scope*."
   ]
  },
  {
   "cell_type": "code",
   "execution_count": null,
   "id": "3a1adf80",
   "metadata": {
    "ExecuteTime": {
     "end_time": "2023-07-12T08:39:35.162157Z",
     "start_time": "2023-07-12T08:39:35.158206Z"
    }
   },
   "outputs": [],
   "source": [
    "root_1, root_2 = quadratic_formula(1, 1, -6)\n",
    "\n",
    "print(f\"The first root is: {root_1}\")\n",
    "print(f\"The second root is: {root_2}\")"
   ]
  },
  {
   "cell_type": "markdown",
   "id": "a2a8de64",
   "metadata": {},
   "source": [
    "### Designing New Functions: A Recipe"
   ]
  },
  {
   "cell_type": "markdown",
   "id": "5dd6cc45",
   "metadata": {},
   "source": [
    "Everytime you write a function, do figure out the answers to the following questions:\n",
    "\n",
    "1. What is an appropriate and informative name for the function?\n",
    "2. What are the parameters, and what types of information do they refer to?\n",
    "3. What calculations are you doing with that information?\n",
    "4. What information does the function return?\n",
    "5. Does it work like you expect it to?\n",
    "\n",
    "Part of the outcome upon completing this questions should be a working function. But equally important is the *documentation* for the function. Use three double quotes `\"\"\"` to start and end this documentation. This notation is called the *docstring* or the *documentation string*.\n",
    "\n",
    "Let's improve our temperature converter functions according to this framework.\n",
    "\n",
    "*Note: the docstring format we specifically use is the [numpy](https://numpydoc.readthedocs.io/en/latest/format.html) docstring format. Which is the common notation for many data science libraries that you'll eventually be using*"
   ]
  },
  {
   "cell_type": "code",
   "execution_count": null,
   "id": "0dbfdff5",
   "metadata": {
    "ExecuteTime": {
     "end_time": "2023-07-12T09:00:41.591663Z",
     "start_time": "2023-07-12T09:00:41.586650Z"
    }
   },
   "outputs": [],
   "source": [
    "def convert_to_fahrenheit(celsius: float) -> float:\n",
    "    \"\"\"Convert a given temperature in celsius to fahrenheit\n",
    "\n",
    "    Parameters\n",
    "    ----------\n",
    "    celsius : float\n",
    "        Input temperature in celsius\n",
    "\n",
    "    Returns\n",
    "    -------\n",
    "    fahrenheit : float\n",
    "        Temperature of the input in fahrenheit\n",
    "\n",
    "    Examples\n",
    "    --------\n",
    "    >>> convert_to_fahrenheit(37.0)\n",
    "    98.6\n",
    "    \"\"\"\n",
    "    fahrenheit = 9/5*celsius + 32\n",
    "\n",
    "    return fahrenheit\n",
    "\n",
    "def convert_to_celsius(fahrenheit: float) -> float:\n",
    "    \"\"\"Convert a given temperature in fahrenheit to celsius\n",
    "\n",
    "    Parameters\n",
    "    ----------\n",
    "    fahrenheit : float\n",
    "        Input temperature in fahrenheit\n",
    "\n",
    "    Returns\n",
    "    -------\n",
    "    celsius : float\n",
    "        Temperature of the input in celsius\n",
    "\n",
    "    Examples\n",
    "    --------\n",
    "    >>> convert_to_celsius(98.6)\n",
    "    37.0\n",
    "    \"\"\"\n",
    "    celsius = (fahrenheit - 32) * 5/9\n",
    "\n",
    "    return celsius"
   ]
  },
  {
   "cell_type": "markdown",
   "id": "e11ffb6d",
   "metadata": {},
   "source": [
    "### Functions That Python Provides"
   ]
  },
  {
   "cell_type": "markdown",
   "id": "1fb8da34",
   "metadata": {},
   "source": [
    "To improve also the readability and conciseness of your code, consider using built-in functions to perform common operations. We've already encountered some of these functions in the previous session which includes `print`, `float`, `int`, `help`, and `input`.\n",
    "\n",
    "Found [here](https://www.w3schools.com/python/python_ref_functions.asp) are other common built-in functions in Python: "
   ]
  },
  {
   "cell_type": "code",
   "execution_count": null,
   "id": "338b1487",
   "metadata": {
    "ExecuteTime": {
     "end_time": "2023-07-12T09:07:08.371388Z",
     "start_time": "2023-07-12T09:07:08.361384Z"
    }
   },
   "outputs": [],
   "source": [
    "abs(-9)"
   ]
  },
  {
   "cell_type": "code",
   "execution_count": null,
   "id": "9a73d407",
   "metadata": {
    "ExecuteTime": {
     "end_time": "2023-07-12T09:07:21.644821Z",
     "start_time": "2023-07-12T09:07:21.639699Z"
    }
   },
   "outputs": [],
   "source": [
    "round(1.337, 2)"
   ]
  },
  {
   "cell_type": "code",
   "execution_count": null,
   "id": "d3c3f1bf",
   "metadata": {
    "ExecuteTime": {
     "end_time": "2023-07-12T09:07:26.659897Z",
     "start_time": "2023-07-12T09:07:26.648568Z"
    }
   },
   "outputs": [],
   "source": [
    "help(round)"
   ]
  },
  {
   "cell_type": "code",
   "execution_count": null,
   "id": "37e1b66a",
   "metadata": {
    "ExecuteTime": {
     "end_time": "2023-07-12T09:09:10.432347Z",
     "start_time": "2023-07-12T09:09:10.427344Z"
    }
   },
   "outputs": [],
   "source": [
    "pow(25, 0.5)"
   ]
  },
  {
   "cell_type": "markdown",
   "id": "02af5d32",
   "metadata": {},
   "source": [
    "## 2 A Modular Approach to Program Organization"
   ]
  },
  {
   "cell_type": "markdown",
   "id": "f2bfaf68",
   "metadata": {},
   "source": [
    "> *Mathematicians don't prove every theorem from scratch. Instead, they build their proofs on truths their predecessors have already established. In the same way, it's rare for someone to write all of a program alone; it's much more common-and productive to make use of the millions of lines of code that other programmers have written before*"
   ]
  },
  {
   "cell_type": "markdown",
   "id": "4935b157",
   "metadata": {},
   "source": [
    "In Python, a *module* is a collection of variables and functions grouped together in a single file. These variables and functions usually help you accomplish a certain task. For example, the `math` module contains variables such as `pi` and mathematical functions such as `cos` (cosine) and `sqrt` (square root)."
   ]
  },
  {
   "cell_type": "markdown",
   "id": "352b01b1",
   "metadata": {},
   "source": [
    "### Importing Modules"
   ]
  },
  {
   "cell_type": "markdown",
   "id": "ff4b92eb",
   "metadata": {},
   "source": [
    "To gain access to the variables and functions defined in a module, we use the `import` statement."
   ]
  },
  {
   "cell_type": "markdown",
   "id": "00a396b5",
   "metadata": {},
   "source": [
    "#### `math` module"
   ]
  },
  {
   "cell_type": "code",
   "execution_count": null,
   "id": "088c440c",
   "metadata": {
    "ExecuteTime": {
     "end_time": "2023-07-12T09:15:29.212126Z",
     "start_time": "2023-07-12T09:15:29.204773Z"
    }
   },
   "outputs": [],
   "source": [
    "import math"
   ]
  },
  {
   "cell_type": "code",
   "execution_count": null,
   "id": "f5db7955",
   "metadata": {
    "ExecuteTime": {
     "end_time": "2023-07-12T09:15:32.477617Z",
     "start_time": "2023-07-12T09:15:32.470535Z"
    }
   },
   "outputs": [],
   "source": [
    "type(math)"
   ]
  },
  {
   "cell_type": "code",
   "execution_count": null,
   "id": "3bc60a3e",
   "metadata": {
    "ExecuteTime": {
     "end_time": "2023-07-12T09:15:37.789777Z",
     "start_time": "2023-07-12T09:15:37.766265Z"
    },
    "scrolled": true
   },
   "outputs": [],
   "source": [
    "help(math)"
   ]
  },
  {
   "cell_type": "code",
   "execution_count": null,
   "id": "1b99137f",
   "metadata": {
    "ExecuteTime": {
     "end_time": "2023-07-12T09:15:52.278018Z",
     "start_time": "2023-07-12T09:15:52.271878Z"
    },
    "scrolled": true
   },
   "outputs": [],
   "source": [
    "math.sqrt(9)"
   ]
  },
  {
   "cell_type": "markdown",
   "id": "5e6c4651",
   "metadata": {},
   "source": [
    "#### `this` module"
   ]
  },
  {
   "cell_type": "markdown",
   "id": "9add88a9",
   "metadata": {},
   "source": [
    "The `this` module is an Easter Egg in Python which shows 20 guidelines written by Tim Peters for the design of the Python language."
   ]
  },
  {
   "cell_type": "code",
   "execution_count": null,
   "id": "40205b09",
   "metadata": {
    "ExecuteTime": {
     "end_time": "2023-07-12T09:48:01.415661Z",
     "start_time": "2023-07-12T09:48:01.399409Z"
    }
   },
   "outputs": [],
   "source": [
    "import this"
   ]
  },
  {
   "cell_type": "markdown",
   "id": "87188576",
   "metadata": {},
   "source": [
    "## 3 Hands-on Exercises"
   ]
  },
  {
   "cell_type": "markdown",
   "id": "04a99745",
   "metadata": {},
   "source": [
    "### City names"
   ]
  },
  {
   "cell_type": "markdown",
   "id": "c77bb124",
   "metadata": {},
   "source": [
    "Write a function called `city_country()` that takes in a name of a `city` and its `country`. The function should return a string formatted like this:\n",
    "\n",
    "```\n",
    "\"Makati City, Philippines\"\n",
    "```"
   ]
  },
  {
   "cell_type": "code",
   "execution_count": null,
   "id": "93a682d6",
   "metadata": {},
   "outputs": [],
   "source": []
  },
  {
   "cell_type": "markdown",
   "id": "5d050a5d",
   "metadata": {},
   "source": [
    "### Grade average calculator"
   ]
  },
  {
   "cell_type": "markdown",
   "id": "d30c5d54",
   "metadata": {},
   "source": [
    "Define a function called `grade_average()` that has three parameters, grades between 0 and 100 inclusive, then returns the average of those grades."
   ]
  },
  {
   "cell_type": "code",
   "execution_count": null,
   "id": "1914fc56",
   "metadata": {},
   "outputs": [],
   "source": []
  },
  {
   "cell_type": "markdown",
   "id": "d8ce8ac9",
   "metadata": {},
   "source": [
    "### Area of a circle"
   ]
  },
  {
   "cell_type": "markdown",
   "id": "f73cf400",
   "metadata": {},
   "source": [
    "Define a function called `circle_area()` which takes in the parameter `radius` then computes and returns for the area of a circle given its `radius`. Use the functions and variables found in the `math` to help your computation."
   ]
  },
  {
   "cell_type": "code",
   "execution_count": null,
   "id": "cd985269",
   "metadata": {},
   "outputs": [],
   "source": []
  },
  {
   "cell_type": "markdown",
   "id": "1d91e9e2",
   "metadata": {},
   "source": [
    "### Baseball statistics"
   ]
  },
  {
   "cell_type": "markdown",
   "id": "fa7bc209",
   "metadata": {},
   "source": [
    "In baseball, the statistic on-base percentage is calculated by adding a player's hits, walks, and hit-by-pitch, and then dividing by the sum of at-bats, walks, hit-by-pitch, and sacrifice flies.\n",
    "\n",
    "$$\n",
    "OBP = \\frac{H + BB + HBP}{AB + BB + HBP + SF}\n",
    "$$\n",
    "\n",
    "where OBP, H, BB, HBP, AB, SF, refer to on-base percentage, base on balls (walks), hit-by-pitch, at-bats, and sacrifice flies respectively. \n",
    "\n",
    "Create a function named `calculate_obp()` that takes in the required statistics of a player to compute for their corresponding on-base percentage."
   ]
  },
  {
   "cell_type": "code",
   "execution_count": null,
   "id": "f1505c1b",
   "metadata": {},
   "outputs": [],
   "source": []
  },
  {
   "cell_type": "markdown",
   "id": "0b824ec2",
   "metadata": {},
   "source": [
    "<div class=\"alert alert-info\">\n",
    "\n",
    "**Submit your work!**\n",
    "\n",
    "For those who want to submit their work and receive feedback, please upload your notebooks to: https://tinyurl.com/bsdsba-bridging-gdrive\n",
    "\n",
    "In your Google Colab, click `File` > `Download` > `Download .ipynb`. Rename your notebooks as: `lastname_firstname.ipynb`. For example, `donato_patriciarose.ipynb` then place it in the `Session 2 Part 1` directory.\n",
    "\n",
    "Hope you enjoyed the first part of your second session! ☺️\n",
    "\n",
    "</div>"
   ]
  }
 ],
 "metadata": {
  "kernelspec": {
   "display_name": "Python 3 (ipykernel)",
   "language": "python",
   "name": "python3"
  },
  "language_info": {
   "codemirror_mode": {
    "name": "ipython",
    "version": 3
   },
   "file_extension": ".py",
   "mimetype": "text/x-python",
   "name": "python",
   "nbconvert_exporter": "python",
   "pygments_lexer": "ipython3",
   "version": "3.9.10"
  }
 },
 "nbformat": 4,
 "nbformat_minor": 5
}
