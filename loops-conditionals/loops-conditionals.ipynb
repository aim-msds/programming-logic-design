{
 "cells": [
  {
   "cell_type": "markdown",
   "id": "cc7cefdd",
   "metadata": {},
   "source": [
    "# Making Loops and Conditionals"
   ]
  },
  {
   "cell_type": "markdown",
   "id": "bf8c173c",
   "metadata": {},
   "source": [
    "References:\n",
    "\n",
    "[1] Gries, P., Campbell, J., & Montojo, J. (2017). *Practical programming: an introduction to computer science using Python 3.6.* Pragmatic Bookshelf.\n",
    "\n",
    "[2] Matthes, E. (2023). *Python crash course: A hands-on, project-based introduction to programming.*"
   ]
  },
  {
   "cell_type": "markdown",
   "id": "cde8e706",
   "metadata": {},
   "source": [
    "## 1 Conditionals"
   ]
  },
  {
   "cell_type": "markdown",
   "id": "0d612600",
   "metadata": {},
   "source": [
    "Programming often involves examining a set of conditions then deciding which actino to take based on those conditions. In the following section, we'll discuss the building blocks that we need to integrate conditional logic to our code."
   ]
  },
  {
   "cell_type": "markdown",
   "id": "45569f93",
   "metadata": {},
   "source": [
    "### Conditional tests"
   ]
  },
  {
   "cell_type": "markdown",
   "id": "5143090c",
   "metadata": {},
   "source": [
    "First thing that we need are expressions that can be evaluated as `True` or `False`. In Python, these are expressed as *conditional tests*. Most of these tests compare the current value of a variable to a specific value of interest."
   ]
  },
  {
   "cell_type": "markdown",
   "id": "622cd4b0",
   "metadata": {},
   "source": [
    "#### Checking for equality"
   ]
  },
  {
   "cell_type": "markdown",
   "id": "8433a796",
   "metadata": {},
   "source": [
    "For example, to check for equality between two values, we use the equality operation denoted by `==`. This operator returns `True` if the values on the left and right side of the operator match, and `False` if they don't match."
   ]
  },
  {
   "cell_type": "code",
   "execution_count": null,
   "id": "bf281134",
   "metadata": {
    "ExecuteTime": {
     "end_time": "2023-07-13T08:19:17.492623Z",
     "start_time": "2023-07-13T08:19:17.473758Z"
    }
   },
   "outputs": [],
   "source": [
    "1 == 2"
   ]
  },
  {
   "cell_type": "code",
   "execution_count": null,
   "id": "0d2539ee",
   "metadata": {
    "ExecuteTime": {
     "end_time": "2023-07-13T08:19:21.066249Z",
     "start_time": "2023-07-13T08:19:21.061022Z"
    }
   },
   "outputs": [],
   "source": [
    "2 == 2"
   ]
  },
  {
   "cell_type": "code",
   "execution_count": null,
   "id": "40d180ca",
   "metadata": {
    "ExecuteTime": {
     "end_time": "2023-07-13T08:21:15.702911Z",
     "start_time": "2023-07-13T08:21:15.699775Z"
    }
   },
   "outputs": [],
   "source": [
    "car = 'toyota'\n",
    "print(car == 'honda')"
   ]
  },
  {
   "cell_type": "markdown",
   "id": "06e61345",
   "metadata": {},
   "source": [
    "Note that when comparing string, testing for equality is case sensitive. This means that strings with different capitalization are not considered equal"
   ]
  },
  {
   "cell_type": "code",
   "execution_count": null,
   "id": "c35b01b0",
   "metadata": {
    "ExecuteTime": {
     "end_time": "2023-07-13T08:23:23.055587Z",
     "start_time": "2023-07-13T08:23:23.050579Z"
    }
   },
   "outputs": [],
   "source": [
    "car = 'Toyota'\n",
    "print(car == 'toyota')"
   ]
  },
  {
   "cell_type": "markdown",
   "id": "2c01076e",
   "metadata": {},
   "source": [
    "What we can do to mediate this is to normalize the case of a variable's value just before doing the comparison."
   ]
  },
  {
   "cell_type": "code",
   "execution_count": null,
   "id": "6f039e23",
   "metadata": {
    "ExecuteTime": {
     "end_time": "2023-07-13T08:24:15.091386Z",
     "start_time": "2023-07-13T08:24:15.087061Z"
    }
   },
   "outputs": [],
   "source": [
    "car.lower() == 'toyota'"
   ]
  },
  {
   "cell_type": "markdown",
   "id": "dcaa0d2e",
   "metadata": {},
   "source": [
    "#### Checking for Inequality"
   ]
  },
  {
   "cell_type": "markdown",
   "id": "946dbbf5",
   "metadata": {},
   "source": [
    "When we want to determine if two values are not equal, we can use the not equal operator. This is denoted by the `!=` operator."
   ]
  },
  {
   "cell_type": "code",
   "execution_count": null,
   "id": "d9adc251",
   "metadata": {
    "ExecuteTime": {
     "end_time": "2023-07-13T08:26:29.131710Z",
     "start_time": "2023-07-13T08:26:29.128350Z"
    }
   },
   "outputs": [],
   "source": [
    "customer_order = 'ramen'\n",
    "print(customer_order != 'pho')"
   ]
  },
  {
   "cell_type": "markdown",
   "id": "31c9dd77",
   "metadata": {},
   "source": [
    "#### Numerical comparisons"
   ]
  },
  {
   "cell_type": "markdown",
   "id": "b4b49cba",
   "metadata": {},
   "source": [
    "Testing numerical values is also straightforward, refer to the table below for the different comparison you can make and the corresponding operators.\n",
    "\n",
    "| Operator | Description |\n",
    "| -------- | ----------- |\n",
    "| `==` | If the values of the operands are equal, then the condition becomes `True` | \n",
    "| `!=` | If the values of the operands are NOT equal, then this will return `True` |\n",
    "| `>` | If the value of the left operand is greater than the value of right operand, this will return `True` |\n",
    "| `<` | If the value of the left operand is less than the value of the right operand, this will return `False` |\n",
    "| `>=` | If the value of the left operand is greater than or equal to the value of right operand, this will return `True` |\n",
    "| `<=` | If the value of the left operand is less than or equal to the value of right operand, this will return `True` |"
   ]
  },
  {
   "cell_type": "markdown",
   "id": "aac9d328",
   "metadata": {},
   "source": [
    "For example, you are trying to check the age of a particular person, you can do:"
   ]
  },
  {
   "cell_type": "code",
   "execution_count": null,
   "id": "a280298d",
   "metadata": {
    "ExecuteTime": {
     "end_time": "2023-07-13T08:41:30.804863Z",
     "start_time": "2023-07-13T08:41:30.797522Z"
    }
   },
   "outputs": [],
   "source": [
    "age = 26\n",
    "print(\"Age is equal to 18: {}\".format(age == 18))\n",
    "print(\"Age is NOT equal to 18: {}\".format(age != 18))\n",
    "print(\"Age is < 18: {}\".format(age < 18))\n",
    "print(\"Age is > 18: {}\".format(age > 18))\n",
    "print(\"Age is ≥ 18: {}\".format(age >= 18))\n",
    "print(\"Age is ≤ 18: {}\".format(age <= 18))"
   ]
  },
  {
   "cell_type": "markdown",
   "id": "3ffe7402",
   "metadata": {},
   "source": [
    "#### Checking multiple conditions"
   ]
  },
  {
   "cell_type": "markdown",
   "id": "07db9688",
   "metadata": {},
   "source": [
    "To check for multiple conditions, you can use the `and` and `or` operator. The `and` operator returns `True` if the operands are both `True`. Meanwhile, the `or` operator returns `True` if at least one of the operand is `True`."
   ]
  },
  {
   "cell_type": "code",
   "execution_count": null,
   "id": "0ff3df25",
   "metadata": {
    "ExecuteTime": {
     "end_time": "2023-07-13T08:45:21.002944Z",
     "start_time": "2023-07-13T08:45:20.997932Z"
    }
   },
   "outputs": [],
   "source": [
    "age = 26\n",
    "\n",
    "print(age >= 18 and age < 30)"
   ]
  },
  {
   "cell_type": "code",
   "execution_count": null,
   "id": "4db9b9b6",
   "metadata": {
    "ExecuteTime": {
     "end_time": "2023-07-13T08:45:47.120853Z",
     "start_time": "2023-07-13T08:45:47.114493Z"
    }
   },
   "outputs": [],
   "source": [
    "age < 18 or age > 30"
   ]
  },
  {
   "cell_type": "markdown",
   "id": "e0db7276",
   "metadata": {
    "ExecuteTime": {
     "end_time": "2023-07-13T08:47:31.187487Z",
     "start_time": "2023-07-13T08:47:31.183081Z"
    }
   },
   "source": [
    "#### Checking whether a value is in the list"
   ]
  },
  {
   "cell_type": "markdown",
   "id": "b8b0c404",
   "metadata": {},
   "source": [
    "To check whether a particular value is already in a list, use the keyword `in`."
   ]
  },
  {
   "cell_type": "code",
   "execution_count": null,
   "id": "27df77be",
   "metadata": {
    "ExecuteTime": {
     "end_time": "2023-07-13T08:54:18.487446Z",
     "start_time": "2023-07-13T08:54:18.482630Z"
    },
    "scrolled": true
   },
   "outputs": [],
   "source": [
    "japanese_cars = ['toyota', 'honda', 'mazda']\n",
    "\n",
    "print('bmw' in japanese_cars)"
   ]
  },
  {
   "cell_type": "code",
   "execution_count": null,
   "id": "177711d8",
   "metadata": {
    "ExecuteTime": {
     "end_time": "2023-07-13T08:54:19.201132Z",
     "start_time": "2023-07-13T08:54:19.197239Z"
    }
   },
   "outputs": [],
   "source": [
    "'toyota' in japanese_cars"
   ]
  },
  {
   "cell_type": "markdown",
   "id": "ba627365",
   "metadata": {},
   "source": [
    "#### Checking whether a value is not in the list"
   ]
  },
  {
   "cell_type": "markdown",
   "id": "d07796ff",
   "metadata": {},
   "source": [
    "If you want to determine if a value does not appear in a list, you can use the keyword `not` in this case."
   ]
  },
  {
   "cell_type": "code",
   "execution_count": null,
   "id": "3f0d5c38",
   "metadata": {
    "ExecuteTime": {
     "end_time": "2023-07-13T08:54:29.895131Z",
     "start_time": "2023-07-13T08:54:29.890444Z"
    }
   },
   "outputs": [],
   "source": [
    "'bmw' not in japanese_cars"
   ]
  },
  {
   "cell_type": "markdown",
   "id": "099a1eca",
   "metadata": {},
   "source": [
    "#### Boolean Expressions"
   ]
  },
  {
   "cell_type": "markdown",
   "id": "9b4630b3",
   "metadata": {},
   "source": [
    "Notice that the printed values for the above conditionals correspond to the value of either `True` or `False`. This kind of value is what we call a `Boolean value`."
   ]
  },
  {
   "cell_type": "code",
   "execution_count": null,
   "id": "628d39e0",
   "metadata": {
    "ExecuteTime": {
     "end_time": "2023-07-13T08:57:05.561024Z",
     "start_time": "2023-07-13T08:57:05.556675Z"
    }
   },
   "outputs": [],
   "source": [
    "type('bmw' not in japanese_cars)"
   ]
  },
  {
   "cell_type": "markdown",
   "id": "cbc3afc8",
   "metadata": {},
   "source": [
    "Boolean values are often used to keep track of certain conditions such as whether a person is active or whether a person has certain permissions."
   ]
  },
  {
   "cell_type": "code",
   "execution_count": null,
   "id": "59f66c5e",
   "metadata": {
    "ExecuteTime": {
     "end_time": "2023-07-13T08:58:01.487110Z",
     "start_time": "2023-07-13T08:58:01.484026Z"
    }
   },
   "outputs": [],
   "source": [
    "is_active = True\n",
    "can_view = True\n",
    "can_upload = False\n",
    "can_edit = False"
   ]
  },
  {
   "cell_type": "markdown",
   "id": "c0b4f4c1",
   "metadata": {},
   "source": [
    "#### Using the `not` keyword"
   ]
  },
  {
   "cell_type": "markdown",
   "id": "e4bca081",
   "metadata": {},
   "source": [
    "The `not` keyword can also be used to negate any *boolean* value."
   ]
  },
  {
   "cell_type": "code",
   "execution_count": null,
   "id": "bd00e65b",
   "metadata": {
    "ExecuteTime": {
     "end_time": "2023-07-13T08:55:16.097922Z",
     "start_time": "2023-07-13T08:55:16.093571Z"
    }
   },
   "outputs": [],
   "source": [
    "not ('bmw' in japanese_cars)"
   ]
  },
  {
   "cell_type": "code",
   "execution_count": null,
   "id": "df29b410",
   "metadata": {
    "ExecuteTime": {
     "end_time": "2023-07-13T08:55:38.925386Z",
     "start_time": "2023-07-13T08:55:38.922361Z"
    }
   },
   "outputs": [],
   "source": [
    "age = 26\n",
    "\n",
    "print(not(age > 30))"
   ]
  },
  {
   "cell_type": "markdown",
   "id": "12cf2955",
   "metadata": {},
   "source": [
    "## 2 `if` Statements"
   ]
  },
  {
   "cell_type": "markdown",
   "id": "3f66095b",
   "metadata": {},
   "source": [
    "Now we understand how to make conditional tests, we can start to integrate logic to our code."
   ]
  },
  {
   "cell_type": "markdown",
   "id": "3f3723c8",
   "metadata": {},
   "source": [
    "### Simple `if` Statements"
   ]
  },
  {
   "cell_type": "markdown",
   "id": "02848b0e",
   "metadata": {},
   "source": [
    "The simplest kind of `if` statement has one test and one action:\n",
    "\n",
    "```python\n",
    "if conditional_test:\n",
    "    do something\n",
    "```"
   ]
  },
  {
   "cell_type": "code",
   "execution_count": null,
   "id": "444fabcb",
   "metadata": {
    "ExecuteTime": {
     "end_time": "2023-07-13T09:08:45.971542Z",
     "start_time": "2023-07-13T09:08:44.359965Z"
    }
   },
   "outputs": [],
   "source": [
    "age = float(input(\"Input your age in years: \"))\n",
    "if age >= 17:\n",
    "    print(\"You are eligible to apply for a professional driver's license!\")"
   ]
  },
  {
   "cell_type": "markdown",
   "id": "aba666dd",
   "metadata": {},
   "source": [
    "### `if`-`else` statements"
   ]
  },
  {
   "cell_type": "markdown",
   "id": "7cf3df5e",
   "metadata": {},
   "source": [
    "Oftentimes, you'll want to take one action when a conditional test passes and a different action in all other cases. We can use Python's `if`-`else` syntax to make this possible.\n",
    "\n",
    "```python\n",
    "if conditional_test:\n",
    "    # Do something if `conditional_test` is True\n",
    "else:\n",
    "    # Do something if `conditional_test` is False\n",
    "```"
   ]
  },
  {
   "cell_type": "code",
   "execution_count": null,
   "id": "08c728d7",
   "metadata": {
    "ExecuteTime": {
     "end_time": "2023-07-13T09:12:25.546494Z",
     "start_time": "2023-07-13T09:12:24.168071Z"
    }
   },
   "outputs": [],
   "source": [
    "age = float(input(\"Input your age in years: \"))\n",
    "if age >= 17:\n",
    "    print(\"You are eligible to apply for a professional driver's license!\")\n",
    "else:\n",
    "    print(\"I'm sorry, you cannot apply for a professional driver's license.\")"
   ]
  },
  {
   "cell_type": "markdown",
   "id": "9d3ff200",
   "metadata": {},
   "source": [
    "### `if`-`elif`-`else` chain"
   ]
  },
  {
   "cell_type": "markdown",
   "id": "1592f73a",
   "metadata": {},
   "source": [
    "In other times, you'll need to test more than two possible situations. To evaluate this, you can use the Python's `if-elif-else` syntax. Python will execute only one block in the `if-elif-else` chain. It runs each conditional test in order until one passes. When a test passes, the code following that test is executed and Python skips the rest of the tests."
   ]
  },
  {
   "cell_type": "markdown",
   "id": "e37b5c0e",
   "metadata": {},
   "source": [
    "A real world example of this is typhoon classification."
   ]
  },
  {
   "cell_type": "code",
   "execution_count": null,
   "id": "edb82a81",
   "metadata": {
    "ExecuteTime": {
     "end_time": "2023-07-13T09:28:18.858532Z",
     "start_time": "2023-07-13T09:28:18.848843Z"
    }
   },
   "outputs": [],
   "source": [
    "def classify_typhoon(wind_speed: float) -> str:\n",
    "    \"\"\"Return the classification of a tropical cyclone given its wind speed\n",
    "\n",
    "    Reference: https://www.pagasa.dost.gov.ph/information/about-tropical-cyclone\n",
    "\n",
    "    Parameters\n",
    "    ----------\n",
    "    wind_speed : float\n",
    "        Wind speed of the typhoon in kilometers per hour (kph)\n",
    "\n",
    "    Returns\n",
    "    -------\n",
    "    classification : str\n",
    "        Classification of the typhoon. It can be Tropical Depression (TD),\n",
    "        Tropical Storm (TS), Severe Tropical Storm (STS), Typhoon (TY),\n",
    "        Super Typhoon (STY)\n",
    "\n",
    "    Examples\n",
    "    --------\n",
    "    >>> classify_typhoon(88.5)\n",
    "    SEVERE TROPICAL STORM (STS)\n",
    "    \"\"\"\n",
    "    if wind_speed < 62:\n",
    "        classification = \"TROPICAL DEPRESSION (TD)\"\n",
    "    elif wind_speed < 88:\n",
    "        classification = \"TROPICAL STORM (TS)\"\n",
    "    elif wind_speed < 117:\n",
    "        classification = \"SEVERE TROPICAL STORM (STS)\"\n",
    "    elif wind_speed < 184:\n",
    "        classification = \"TYPHOON (TY)\"\n",
    "    else:\n",
    "        classification = \"SUPER TYPHOON (STY)\"\n",
    "\n",
    "    return classification"
   ]
  },
  {
   "cell_type": "code",
   "execution_count": null,
   "id": "de0f68a0",
   "metadata": {
    "ExecuteTime": {
     "end_time": "2023-07-13T09:28:25.672720Z",
     "start_time": "2023-07-13T09:28:25.668063Z"
    }
   },
   "outputs": [],
   "source": [
    "classify_typhoon(88.5)"
   ]
  },
  {
   "cell_type": "markdown",
   "id": "c056ccf2",
   "metadata": {},
   "source": [
    "Note that Python does not require an `else` block at the end of the `if-elif` chain. Sometimes an else block can be useful, sometimes it is clearer to use an additional `elif` statement that catches the specific condition of interest."
   ]
  },
  {
   "cell_type": "markdown",
   "id": "de20cc67",
   "metadata": {},
   "source": [
    "## 3 Loops"
   ]
  },
  {
   "cell_type": "markdown",
   "id": "a8696152",
   "metadata": {},
   "source": [
    "Up until know, if we want to execute a code two hundred times, you would need to run that specific code block/cell two hundred times. For this section, we will introduce another fundamental kind of control flow: repetition. We'll see how we can write an instruction once and use loops to repeat that code the desired number of times.\n",
    "\n",
    "There are two ways to use loops: the first one is using an iterable which allows us to process items in a collection of data; the second one is to use conditionals as trigger when to stop executing the code in the loop. We'll consider both of these in the next subsections."
   ]
  },
  {
   "cell_type": "markdown",
   "id": "11e65b95",
   "metadata": {},
   "source": [
    "### Looping through an entire collection"
   ]
  },
  {
   "cell_type": "markdown",
   "id": "fcd399d1",
   "metadata": {},
   "source": [
    "#### Processing lists"
   ]
  },
  {
   "cell_type": "markdown",
   "id": "031002ea",
   "metadata": {},
   "source": [
    "We'll often would want to run through different elements in a list, performing the same task in each item. As an example, consider a task wherein we are to convert several speed measurements from kilometers per hour to miles per hour. We can use Python's `for` loop syntax to process each measurement, without having to write one statement per element."
   ]
  },
  {
   "cell_type": "code",
   "execution_count": null,
   "id": "61f2bb89",
   "metadata": {
    "ExecuteTime": {
     "end_time": "2023-07-13T10:07:16.252991Z",
     "start_time": "2023-07-13T10:07:16.248819Z"
    }
   },
   "outputs": [],
   "source": [
    "speeds = [0, 1.0, 20., 60., 120., 160.] # in km/h\n",
    "\n",
    "for speed in speeds:\n",
    "    imperial_speed = round(speed / 1.609, 2)\n",
    "    print(f\"Metric: {speed} km/h; Imperial: {imperial_speed} mph\")"
   ]
  },
  {
   "cell_type": "markdown",
   "id": "7e0e4826",
   "metadata": {},
   "source": [
    "The general form of a `for` loop is as follows:\n",
    "\n",
    "```python\n",
    "for <<loop_variable>> in <<list>>:\n",
    "    <<block>>\n",
    "```"
   ]
  },
  {
   "cell_type": "markdown",
   "id": "41bc9536",
   "metadata": {},
   "source": [
    "The way a `for` loop is executed is as follows:\n",
    "1. The loop variable is assigned the first item in the list, and the loop block is executed.\n",
    "2. The loop variable is then assigned to the second item in the list and the loop body is executed again\n",
    "3. This is repeated until the loop variable is assigned the last item in the list and the loop body is executed one last time.\n",
    "\n",
    "Always remember to indent the line after the `for` statement in a loop. If you forget, Python will remind you by throwing off and error."
   ]
  },
  {
   "cell_type": "markdown",
   "id": "cec74543",
   "metadata": {},
   "source": [
    "#### Using the `range()` function"
   ]
  },
  {
   "cell_type": "markdown",
   "id": "e7854c02",
   "metadata": {},
   "source": [
    "Python has a built-in function `range()` that can be useful to generate a series of numbers."
   ]
  },
  {
   "cell_type": "code",
   "execution_count": null,
   "id": "2d9a1299",
   "metadata": {
    "ExecuteTime": {
     "end_time": "2023-07-13T10:16:30.964766Z",
     "start_time": "2023-07-13T10:16:30.946146Z"
    },
    "scrolled": true
   },
   "outputs": [],
   "source": [
    "help(range)"
   ]
  },
  {
   "cell_type": "markdown",
   "id": "a3bef7e1",
   "metadata": {},
   "source": [
    "You can use the `range()` in two ways:\n",
    "\n",
    "First is by using an integer input"
   ]
  },
  {
   "cell_type": "code",
   "execution_count": null,
   "id": "189ef65d",
   "metadata": {
    "ExecuteTime": {
     "end_time": "2023-07-13T10:17:05.854690Z",
     "start_time": "2023-07-13T10:17:05.850185Z"
    }
   },
   "outputs": [],
   "source": [
    "for value in range(5):\n",
    "    print(value)"
   ]
  },
  {
   "cell_type": "markdown",
   "id": "45054253",
   "metadata": {},
   "source": [
    "The second way is to specify the starting value, ending value, and optionally, the increment or decrement value."
   ]
  },
  {
   "cell_type": "code",
   "execution_count": null,
   "id": "000f6a87",
   "metadata": {
    "ExecuteTime": {
     "end_time": "2023-07-13T10:18:21.780688Z",
     "start_time": "2023-07-13T10:18:21.777595Z"
    }
   },
   "outputs": [],
   "source": [
    "for value in range(1, 5):\n",
    "    print(value)"
   ]
  },
  {
   "cell_type": "markdown",
   "id": "20035eb5",
   "metadata": {},
   "source": [
    "You can use this to refer the index of a list."
   ]
  },
  {
   "cell_type": "code",
   "execution_count": null,
   "id": "47c967fc",
   "metadata": {
    "ExecuteTime": {
     "end_time": "2023-07-13T10:21:35.861272Z",
     "start_time": "2023-07-13T10:21:35.854429Z"
    }
   },
   "outputs": [],
   "source": [
    "japanese_cars = ['toyota', 'honda', 'nissan', 'suzuki', 'mazda']\n",
    "\n",
    "print(\"A list of different japanese car brands:\\n\")\n",
    "for i in range(len(japanese_cars)):\n",
    "    print(f\"{i + 1}. {japanese_cars[i].title()}\")"
   ]
  },
  {
   "cell_type": "markdown",
   "id": "46858106",
   "metadata": {},
   "source": [
    "#### Processing any iterable"
   ]
  },
  {
   "cell_type": "markdown",
   "id": "e56ee4fa",
   "metadata": {},
   "source": [
    "The use of the `for` loop is not restricted to lists. Any data type that is iterable can be used as basis for the repetition. For example, strings are actually iterable. Thus, you could loop over them."
   ]
  },
  {
   "cell_type": "code",
   "execution_count": null,
   "id": "b1dd1d9f",
   "metadata": {
    "ExecuteTime": {
     "end_time": "2023-07-13T10:25:52.919213Z",
     "start_time": "2023-07-13T10:25:52.914073Z"
    },
    "scrolled": true
   },
   "outputs": [],
   "source": [
    "message = 'I am an aspiring Data Science Leader'\n",
    "\n",
    "for value in message:\n",
    "    print(value)"
   ]
  },
  {
   "cell_type": "markdown",
   "id": "72d08d8b",
   "metadata": {},
   "source": [
    "Thus you can do several operations such as checking is a particular character is upper or lower case."
   ]
  },
  {
   "cell_type": "code",
   "execution_count": null,
   "id": "957b552f",
   "metadata": {
    "ExecuteTime": {
     "end_time": "2023-07-13T10:25:58.265548Z",
     "start_time": "2023-07-13T10:25:58.262296Z"
    }
   },
   "outputs": [],
   "source": [
    "for ch in message:\n",
    "    if ch.isupper():\n",
    "        print(ch)"
   ]
  },
  {
   "cell_type": "markdown",
   "id": "e67cd683",
   "metadata": {},
   "source": [
    "### Looping using conditionals"
   ]
  },
  {
   "cell_type": "markdown",
   "id": "b6285ed8",
   "metadata": {},
   "source": [
    "`for` loops are useful if you know how many iterations of the loop you need. In some situations, you might not know in advance how many loop iterations you have to execute. In these cases, we can use a `while` loop. The general form of a `while` loop is as follows:\n",
    "\n",
    "```python\n",
    "while <<conditional_expression>>:\n",
    "    <<block>>\n",
    "```"
   ]
  },
  {
   "cell_type": "markdown",
   "id": "4a7863ed",
   "metadata": {},
   "source": [
    "Here's an example:"
   ]
  },
  {
   "cell_type": "code",
   "execution_count": null,
   "id": "e3564d2f",
   "metadata": {
    "ExecuteTime": {
     "end_time": "2023-07-13T11:02:21.434428Z",
     "start_time": "2023-07-13T11:02:21.425291Z"
    }
   },
   "outputs": [],
   "source": [
    "rabbits = 3\n",
    "while rabbits > 0:\n",
    "    print(f\"Number of rabbits: {rabbits}\")\n",
    "    rabbits -= 1"
   ]
  },
  {
   "cell_type": "markdown",
   "id": "7c23e067",
   "metadata": {},
   "source": [
    "Another more useful example is a simple exponential growth model. Consider the following bacteria population model:\n",
    "\n",
    "$$\n",
    "P(t + 1) = P(t) + rP(t)\n",
    "$$\n",
    "\n",
    "where $P(t)$ is the population size at time $t$ in minutes and $r$ is the growth rate. Let's create a code that determines how long it takes for a bacteria to double their numbers."
   ]
  },
  {
   "cell_type": "code",
   "execution_count": null,
   "id": "ad91f11d",
   "metadata": {
    "ExecuteTime": {
     "end_time": "2023-07-13T11:08:00.025513Z",
     "start_time": "2023-07-13T11:08:00.019343Z"
    }
   },
   "outputs": [],
   "source": [
    "time = 0\n",
    "initial_population = 1_000 # Initial population\n",
    "growth_rate = 0.21 # 21% growth per minute\n",
    "population = initial_population\n",
    "\n",
    "# We terminate the loop after twice the initial population\n",
    "while population < 2*initial_population:\n",
    "    population += growth_rate*population\n",
    "    print(f'Current population: {round(population)}')\n",
    "    time += 1\n",
    "\n",
    "print(f\"\\nIt took {time} minutes for the bacteria to double.\")\n",
    "print(f\"The final population was {round(population)} bacteria.\")"
   ]
  },
  {
   "cell_type": "markdown",
   "id": "0954304e",
   "metadata": {},
   "source": [
    "### Controlling Loops Using `break` and `continue`"
   ]
  },
  {
   "cell_type": "markdown",
   "id": "cbea20c5",
   "metadata": {},
   "source": [
    "As a rule, `for` and `while` loops execute all the statements in their body on each iteration. However, sometimes it is useful to break that rule. Python provides two ways of controlling the iteratin of a loop: `break` - which terminates the execution of the loop immediately, and `continue`, which skips ahead to the next iteration."
   ]
  },
  {
   "cell_type": "markdown",
   "id": "deb7436b",
   "metadata": {},
   "source": [
    "For example, let's look at a simple worker that accomplishes `1` unit of work every hour. Let's see what happens to our loops when we use some `break` and `continue` statements."
   ]
  },
  {
   "cell_type": "code",
   "execution_count": null,
   "id": "25e8301d",
   "metadata": {
    "ExecuteTime": {
     "end_time": "2023-07-14T01:21:53.788558Z",
     "start_time": "2023-07-14T01:21:53.785067Z"
    }
   },
   "outputs": [],
   "source": [
    "# Case when we don't use `continue` or `break`\n",
    "work_done = 0 # Initialize the work done of a worker\n",
    "\n",
    "for time in range(24): # Time in hours\n",
    "    work_done += 1\n",
    "\n",
    "print(f\"Total work done: {work_done} units\")"
   ]
  },
  {
   "cell_type": "code",
   "execution_count": null,
   "id": "b0b7b6ea",
   "metadata": {
    "ExecuteTime": {
     "end_time": "2023-07-14T01:22:32.922224Z",
     "start_time": "2023-07-14T01:22:32.918362Z"
    }
   },
   "outputs": [],
   "source": [
    "# Case when we use break\n",
    "work_done = 0\n",
    "\n",
    "for time in range(24):\n",
    "    if time == 8:\n",
    "        break\n",
    "    else:\n",
    "        work_done += 1\n",
    "\n",
    "print(f\"Total work done: {work_done} units\")"
   ]
  },
  {
   "cell_type": "code",
   "execution_count": null,
   "id": "c59553e7",
   "metadata": {
    "ExecuteTime": {
     "end_time": "2023-07-14T01:23:26.643304Z",
     "start_time": "2023-07-14T01:23:26.636304Z"
    }
   },
   "outputs": [],
   "source": [
    "# Case when we use continue\n",
    "work_done = 0\n",
    "\n",
    "for time in range(24):\n",
    "    if time == 8:\n",
    "        continue\n",
    "    else:\n",
    "        work_done += 1\n",
    "\n",
    "print(f\"Total work done: {work_done} units\")"
   ]
  },
  {
   "cell_type": "code",
   "execution_count": null,
   "id": "b67b09f9",
   "metadata": {
    "ExecuteTime": {
     "end_time": "2023-07-14T01:24:42.926199Z",
     "start_time": "2023-07-14T01:24:42.921788Z"
    }
   },
   "outputs": [],
   "source": [
    "work_done = 0\n",
    "\n",
    "for i, time in enumerate(range(24)):\n",
    "    if time == 8:\n",
    "        continue\n",
    "    else:\n",
    "        work_done += 1\n",
    "    print(f\"Time: {i+1}; Work done: {work_done}\")"
   ]
  },
  {
   "cell_type": "markdown",
   "id": "dd52122d",
   "metadata": {},
   "source": [
    "## 4 Hands-on Exercises"
   ]
  },
  {
   "cell_type": "markdown",
   "id": "82f376fd",
   "metadata": {},
   "source": [
    "### Stages of Life"
   ]
  },
  {
   "cell_type": "markdown",
   "id": "eb26910a",
   "metadata": {},
   "source": [
    "Create a function `life_stage()` that determines a person's stage of life given their `age`. The function will output a value according to the following conditions:\n",
    "- If a person's `age` is less than 2 years old, that person is a `baby`.\n",
    "- If a person's `age` is at least 2 years old but less than 4, that person is a `toddler`\n",
    "- If a person's `age` is at least 4 years old but less than 13, that person is a `kid`.\n",
    "- If a person's `age` is at least 13 years old but less than 20, that person is a `teenager`.\n",
    "- If a person's `age` is at least 20 years old but less than 65, that person is an `adult`.\n",
    "- If a person's `age` is 65 years or older, that person is an `elder`."
   ]
  },
  {
   "cell_type": "code",
   "execution_count": null,
   "id": "09fcaf13",
   "metadata": {},
   "outputs": [],
   "source": []
  },
  {
   "cell_type": "markdown",
   "id": "e5f14a21",
   "metadata": {},
   "source": [
    "### Generating Triangles"
   ]
  },
  {
   "cell_type": "markdown",
   "id": "5d0246e9",
   "metadata": {},
   "source": [
    "Using `for` loops, print a right triangle `T` on the screen where the triangle is one character wide at its narrow point and seven characters wide at its widest point.\n",
    "\n",
    "```\n",
    "T\n",
    "TT\n",
    "TTT\n",
    "TTTT\n",
    "TTTTT\n",
    "TTTTTT\n",
    "TTTTTTT\n",
    "```"
   ]
  },
  {
   "cell_type": "code",
   "execution_count": null,
   "id": "f13c7460",
   "metadata": {},
   "outputs": [],
   "source": []
  },
  {
   "cell_type": "markdown",
   "id": "7f2769c0",
   "metadata": {},
   "source": [
    "Now try to print the triangle described in the previous exercise with its hypothenuse on the left side.\n",
    "\n",
    "```\n",
    "      T\n",
    "     TT\n",
    "    TTT\n",
    "   TTTT\n",
    "  TTTTT\n",
    " TTTTTT\n",
    "TTTTTTT\n",
    "```"
   ]
  },
  {
   "cell_type": "code",
   "execution_count": null,
   "id": "d13a13cd",
   "metadata": {
    "ExecuteTime": {
     "end_time": "2023-07-13T11:12:17.627630Z",
     "start_time": "2023-07-13T11:12:17.624599Z"
    }
   },
   "outputs": [],
   "source": []
  },
  {
   "cell_type": "markdown",
   "id": "d2e67a2a",
   "metadata": {},
   "source": [
    "### Stop the Negativity"
   ]
  },
  {
   "cell_type": "markdown",
   "id": "c28f7a6d",
   "metadata": {},
   "source": [
    "Create a function `remove_negative()` which takes in a list of numbers then returns a new list with all the negative numbers removed.\n",
    "\n",
    "Example:\n",
    "\n",
    "```python\n",
    ">>> remove_negative([-5, 1, -3, 2])\n",
    "[1, 2]\n",
    "```"
   ]
  },
  {
   "cell_type": "code",
   "execution_count": null,
   "id": "413c13d5",
   "metadata": {},
   "outputs": [],
   "source": []
  },
  {
   "cell_type": "markdown",
   "id": "92e5911d",
   "metadata": {},
   "source": [
    "### Fizz Buzz Fuzz"
   ]
  },
  {
   "cell_type": "markdown",
   "id": "998c0fb4",
   "metadata": {},
   "source": [
    "Create a function `fizz_buzz()` that takes in an integer `n`, then returns a string output according to the following conditions:\n",
    "\n",
    "1. Return `'Fizz'` if `n` is divisble by 3.\n",
    "2. Return `'Buzz'` if `n` is divisible by 5.\n",
    "3. Return `'Fuzz'` if `n` is divisble by 15.\n",
    "4. Return the value `n` as a string if none of the above conditions are true."
   ]
  },
  {
   "cell_type": "code",
   "execution_count": null,
   "id": "f0b333b8",
   "metadata": {},
   "outputs": [],
   "source": []
  },
  {
   "cell_type": "markdown",
   "id": "8bbec35b",
   "metadata": {},
   "source": [
    "### Rats!!"
   ]
  },
  {
   "cell_type": "markdown",
   "id": "5ff91a0e",
   "metadata": {},
   "source": [
    "The dictionary `rats` contain information about two rats names `Pip` and `Pippin`. It includes information such as each of the rat's `weight` and the `rate` at which each are expected to increase each week.\n",
    "\n",
    "1. Using a `while` loop, calculate how many weeks it would take for each of the two rats's weight to become 25 percent heavier than it was originally.\n",
    "2. Calculate how many weeks it would take for `Pip` to be 10% heavier than `Pippin`."
   ]
  },
  {
   "cell_type": "code",
   "execution_count": null,
   "id": "a236f948",
   "metadata": {
    "ExecuteTime": {
     "end_time": "2023-07-14T01:38:55.303469Z",
     "start_time": "2023-07-14T01:38:55.299974Z"
    }
   },
   "outputs": [],
   "source": [
    "rats = [\n",
    "    {'name': 'Pip', 'weight': 10, 'rate': 0.08},\n",
    "    {'name': 'Pippin', 'weight': 14, 'rate': 0.04}\n",
    "]"
   ]
  },
  {
   "cell_type": "code",
   "execution_count": null,
   "id": "53536dc2",
   "metadata": {
    "ExecuteTime": {
     "end_time": "2023-07-14T01:39:01.038448Z",
     "start_time": "2023-07-14T01:39:01.033545Z"
    }
   },
   "outputs": [],
   "source": []
  },
  {
   "cell_type": "markdown",
   "id": "a12ad052",
   "metadata": {},
   "source": [
    "### Roman Numerals"
   ]
  },
  {
   "cell_type": "markdown",
   "id": "1f58d61d",
   "metadata": {},
   "source": [
    "Create a function `roman_to_integer()` that takes in a roman numeral string `roman_numeral` then outputs the corresponding integer value of `roman_numeral`.\n",
    "\n",
    "Example:\n",
    "\n",
    "```python\n",
    ">>> roman_to_integer('XVI')\n",
    "16\n",
    ">>> roman_to_integer('XL')\n",
    "40\n",
    "```"
   ]
  },
  {
   "cell_type": "code",
   "execution_count": null,
   "id": "28dfb404",
   "metadata": {
    "ExecuteTime": {
     "end_time": "2023-07-13T11:30:48.275079Z",
     "start_time": "2023-07-13T11:30:48.264481Z"
    }
   },
   "outputs": [],
   "source": []
  }
 ],
 "metadata": {
  "kernelspec": {
   "display_name": "Python 3 (ipykernel)",
   "language": "python",
   "name": "python3"
  },
  "language_info": {
   "codemirror_mode": {
    "name": "ipython",
    "version": 3
   },
   "file_extension": ".py",
   "mimetype": "text/x-python",
   "name": "python",
   "nbconvert_exporter": "python",
   "pygments_lexer": "ipython3",
   "version": "3.9.10"
  }
 },
 "nbformat": 4,
 "nbformat_minor": 5
}
