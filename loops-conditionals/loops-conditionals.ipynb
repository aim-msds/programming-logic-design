{
 "cells": [
  {
   "cell_type": "markdown",
   "id": "6e0eab0a",
   "metadata": {},
   "source": [
    "# Making Loops and Conditionals"
   ]
  },
  {
   "cell_type": "markdown",
   "id": "1c573b03",
   "metadata": {},
   "source": [
    "References:\n",
    "\n",
    "[1] Gries, P., Campbell, J., & Montojo, J. (2017). *Practical programming: an introduction to computer science using Python 3.6.* Pragmatic Bookshelf.\n",
    "\n",
    "[2] Matthes, E. (2023). *Python crash course: A hands-on, project-based introduction to programming.*"
   ]
  },
  {
   "cell_type": "markdown",
   "id": "0ae86318",
   "metadata": {},
   "source": [
    "## 1 Conditionals"
   ]
  },
  {
   "cell_type": "markdown",
   "id": "d586622b",
   "metadata": {},
   "source": [
    "Programming often involves examining a set of conditions then deciding which actino to take based on those conditions. In the following section, we'll discuss the building blocks that we need to integrate conditional logic to our code."
   ]
  },
  {
   "cell_type": "markdown",
   "id": "d5c5450d",
   "metadata": {},
   "source": [
    "### Conditional tests"
   ]
  },
  {
   "cell_type": "markdown",
   "id": "d4bcb0e2",
   "metadata": {},
   "source": [
    "First thing that we need are expressions that can be evaluated as `True` or `False`. In Python, these are expressed as *conditional tests*. Most of these tests compare the current value of a variable to a specific value of interest."
   ]
  },
  {
   "cell_type": "markdown",
   "id": "1469d8a0",
   "metadata": {},
   "source": [
    "#### Checking for equality"
   ]
  },
  {
   "cell_type": "markdown",
   "id": "890372fa",
   "metadata": {},
   "source": [
    "For example, to check for equality between two values, we use the equality operation denoted by `==`. This operator returns `True` if the values on the left and right side of the operator match, and `False` if they don't match."
   ]
  },
  {
   "cell_type": "code",
   "execution_count": null,
   "id": "9a14fc38",
   "metadata": {
    "ExecuteTime": {
     "end_time": "2023-07-13T08:19:17.492623Z",
     "start_time": "2023-07-13T08:19:17.473758Z"
    }
   },
   "outputs": [],
   "source": [
    "1 == 2"
   ]
  },
  {
   "cell_type": "code",
   "execution_count": null,
   "id": "7f4aab9e",
   "metadata": {
    "ExecuteTime": {
     "end_time": "2023-07-13T08:19:21.066249Z",
     "start_time": "2023-07-13T08:19:21.061022Z"
    }
   },
   "outputs": [],
   "source": [
    "2 == 2"
   ]
  },
  {
   "cell_type": "code",
   "execution_count": null,
   "id": "1118690f",
   "metadata": {
    "ExecuteTime": {
     "end_time": "2023-07-13T08:21:15.702911Z",
     "start_time": "2023-07-13T08:21:15.699775Z"
    }
   },
   "outputs": [],
   "source": [
    "car = 'toyota'\n",
    "print(car == 'honda')"
   ]
  },
  {
   "cell_type": "markdown",
   "id": "986e8ff2",
   "metadata": {},
   "source": [
    "Note that when comparing string, testing for equality is case sensitive. This means that strings with different capitalization are not considered equal"
   ]
  },
  {
   "cell_type": "code",
   "execution_count": null,
   "id": "ffd790ff",
   "metadata": {
    "ExecuteTime": {
     "end_time": "2023-07-13T08:23:23.055587Z",
     "start_time": "2023-07-13T08:23:23.050579Z"
    }
   },
   "outputs": [],
   "source": [
    "car = 'Toyota'\n",
    "print(car == 'toyota')"
   ]
  },
  {
   "cell_type": "markdown",
   "id": "1e3e861f",
   "metadata": {},
   "source": [
    "What we can do to mediate this is to normalize the case of a variable's value just before doing the comparison."
   ]
  },
  {
   "cell_type": "code",
   "execution_count": null,
   "id": "36cda26b",
   "metadata": {
    "ExecuteTime": {
     "end_time": "2023-07-13T08:24:15.091386Z",
     "start_time": "2023-07-13T08:24:15.087061Z"
    }
   },
   "outputs": [],
   "source": [
    "car.lower() == 'toyota'"
   ]
  },
  {
   "cell_type": "markdown",
   "id": "22b6a6ad",
   "metadata": {},
   "source": [
    "#### Checking for Inequality"
   ]
  },
  {
   "cell_type": "markdown",
   "id": "91140e8e",
   "metadata": {},
   "source": [
    "When we want to determine if two values are not equal, we can use the not equal operator. This is denoted by the `!=` operator."
   ]
  },
  {
   "cell_type": "code",
   "execution_count": null,
   "id": "c21dfa1e",
   "metadata": {
    "ExecuteTime": {
     "end_time": "2023-07-13T08:26:29.131710Z",
     "start_time": "2023-07-13T08:26:29.128350Z"
    }
   },
   "outputs": [],
   "source": [
    "customer_order = 'ramen'\n",
    "print(customer_order != 'pho')"
   ]
  },
  {
   "cell_type": "markdown",
   "id": "9c435d11",
   "metadata": {},
   "source": [
    "#### Numerical comparisons"
   ]
  },
  {
   "cell_type": "markdown",
   "id": "949de615",
   "metadata": {},
   "source": [
    "Testing numerical values is also straightforward, refer to the table below for the different comparison you can make and the corresponding operators.\n",
    "\n",
    "| Operator | Description |\n",
    "| -------- | ----------- |\n",
    "| `==` | If the values of the operands are equal, then the condition becomes `True` | \n",
    "| `!=` | If the values of the operands are NOT equal, then this will return `True` |\n",
    "| `>` | If the value of the left operand is greater than the value of right operand, this will return `True` |\n",
    "| `<` | If the value of the left operand is less than the value of the right operand, this will return `False` |\n",
    "| `>=` | If the value of the left operand is greater than or equal to the value of right operand, this will return `True` |\n",
    "| `<=` | If the value of the left operand is less than or equal to the value of right operand, this will return `True` |"
   ]
  },
  {
   "cell_type": "markdown",
   "id": "56085e1c",
   "metadata": {},
   "source": [
    "For example, you are trying to check the age of a particular person, you can do:"
   ]
  },
  {
   "cell_type": "code",
   "execution_count": null,
   "id": "2dbd8f6c",
   "metadata": {
    "ExecuteTime": {
     "end_time": "2023-07-13T08:41:30.804863Z",
     "start_time": "2023-07-13T08:41:30.797522Z"
    }
   },
   "outputs": [],
   "source": [
    "age = 26\n",
    "print(\"Age is equal to 18: {}\".format(age == 18))\n",
    "print(\"Age is NOT equal to 18: {}\".format(age != 18))\n",
    "print(\"Age is < 18: {}\".format(age < 18))\n",
    "print(\"Age is > 18: {}\".format(age > 18))\n",
    "print(\"Age is ≥ 18: {}\".format(age >= 18))\n",
    "print(\"Age is ≤ 18: {}\".format(age <= 18))"
   ]
  },
  {
   "cell_type": "markdown",
   "id": "c74805c1",
   "metadata": {},
   "source": [
    "#### Checking multiple conditions"
   ]
  },
  {
   "cell_type": "markdown",
   "id": "acec468a",
   "metadata": {},
   "source": [
    "To check for multiple conditions, you can use the `and` and `or` operator. The `and` operator returns `True` if the operands are both `True`. Meanwhile, the `or` operator returns `True` if at least one of the operand is `True`."
   ]
  },
  {
   "cell_type": "code",
   "execution_count": null,
   "id": "430aa674",
   "metadata": {
    "ExecuteTime": {
     "end_time": "2023-07-13T08:45:21.002944Z",
     "start_time": "2023-07-13T08:45:20.997932Z"
    }
   },
   "outputs": [],
   "source": [
    "age = 26\n",
    "\n",
    "print(age >= 18 and age < 30)"
   ]
  },
  {
   "cell_type": "code",
   "execution_count": null,
   "id": "3a0e9c2d",
   "metadata": {
    "ExecuteTime": {
     "end_time": "2023-07-13T08:45:47.120853Z",
     "start_time": "2023-07-13T08:45:47.114493Z"
    }
   },
   "outputs": [],
   "source": [
    "age < 18 or age > 30"
   ]
  },
  {
   "cell_type": "markdown",
   "id": "8ce18caf",
   "metadata": {
    "ExecuteTime": {
     "end_time": "2023-07-13T08:47:31.187487Z",
     "start_time": "2023-07-13T08:47:31.183081Z"
    }
   },
   "source": [
    "#### Checking whether a value is in the list"
   ]
  },
  {
   "cell_type": "markdown",
   "id": "c9752fe8",
   "metadata": {},
   "source": [
    "To check whether a particular value is already in a list, use the keyword `in`."
   ]
  },
  {
   "cell_type": "code",
   "execution_count": null,
   "id": "a8bd33d9",
   "metadata": {
    "ExecuteTime": {
     "end_time": "2023-07-13T08:54:18.487446Z",
     "start_time": "2023-07-13T08:54:18.482630Z"
    },
    "scrolled": true
   },
   "outputs": [],
   "source": [
    "japanese_cars = ['toyota', 'honda', 'mazda']\n",
    "\n",
    "print('bmw' in japanese_cars)"
   ]
  },
  {
   "cell_type": "code",
   "execution_count": null,
   "id": "f8af4640",
   "metadata": {
    "ExecuteTime": {
     "end_time": "2023-07-13T08:54:19.201132Z",
     "start_time": "2023-07-13T08:54:19.197239Z"
    }
   },
   "outputs": [],
   "source": [
    "'toyota' in japanese_cars"
   ]
  },
  {
   "cell_type": "markdown",
   "id": "95192fea",
   "metadata": {},
   "source": [
    "#### Checking whether a value is not in the list"
   ]
  },
  {
   "cell_type": "markdown",
   "id": "7dd58a29",
   "metadata": {},
   "source": [
    "If you want to determine if a value does not appear in a list, you can use the keyword `not` in this case."
   ]
  },
  {
   "cell_type": "code",
   "execution_count": null,
   "id": "62b73390",
   "metadata": {
    "ExecuteTime": {
     "end_time": "2023-07-13T08:54:29.895131Z",
     "start_time": "2023-07-13T08:54:29.890444Z"
    }
   },
   "outputs": [],
   "source": [
    "'bmw' not in japanese_cars"
   ]
  },
  {
   "cell_type": "markdown",
   "id": "91d19cb9",
   "metadata": {},
   "source": [
    "#### Boolean Expressions"
   ]
  },
  {
   "cell_type": "markdown",
   "id": "b2413aa2",
   "metadata": {},
   "source": [
    "Notice that the printed values for the above conditionals correspond to the value of either `True` or `False`. This kind of value is what we call a `Boolean value`."
   ]
  },
  {
   "cell_type": "code",
   "execution_count": null,
   "id": "33e644b5",
   "metadata": {
    "ExecuteTime": {
     "end_time": "2023-07-13T08:57:05.561024Z",
     "start_time": "2023-07-13T08:57:05.556675Z"
    }
   },
   "outputs": [],
   "source": [
    "type('bmw' not in japanese_cars)"
   ]
  },
  {
   "cell_type": "markdown",
   "id": "1adf4743",
   "metadata": {},
   "source": [
    "Boolean values are often used to keep track of certain conditions such as whether a person is active or whether a person has certain permissions."
   ]
  },
  {
   "cell_type": "code",
   "execution_count": null,
   "id": "a1c7ac54",
   "metadata": {
    "ExecuteTime": {
     "end_time": "2023-07-13T08:58:01.487110Z",
     "start_time": "2023-07-13T08:58:01.484026Z"
    }
   },
   "outputs": [],
   "source": [
    "is_active = True\n",
    "can_view = True\n",
    "can_upload = False\n",
    "can_edit = False"
   ]
  },
  {
   "cell_type": "markdown",
   "id": "f171ade2",
   "metadata": {},
   "source": [
    "#### Using the `not` keyword"
   ]
  },
  {
   "cell_type": "markdown",
   "id": "8f6a205f",
   "metadata": {},
   "source": [
    "The `not` keyword can also be used to negate any *boolean* value."
   ]
  },
  {
   "cell_type": "code",
   "execution_count": null,
   "id": "f164b981",
   "metadata": {
    "ExecuteTime": {
     "end_time": "2023-07-13T08:55:16.097922Z",
     "start_time": "2023-07-13T08:55:16.093571Z"
    }
   },
   "outputs": [],
   "source": [
    "not ('bmw' in japanese_cars)"
   ]
  },
  {
   "cell_type": "code",
   "execution_count": null,
   "id": "e8746e6d",
   "metadata": {
    "ExecuteTime": {
     "end_time": "2023-07-13T08:55:38.925386Z",
     "start_time": "2023-07-13T08:55:38.922361Z"
    }
   },
   "outputs": [],
   "source": [
    "age = 26\n",
    "\n",
    "print(not(age > 30))"
   ]
  },
  {
   "cell_type": "markdown",
   "id": "2af089e2",
   "metadata": {},
   "source": [
    "## 2 `if` Statements"
   ]
  },
  {
   "cell_type": "markdown",
   "id": "5f58fb5d",
   "metadata": {},
   "source": [
    "Now we understand how to make conditional tests, we can start to integrate logic to our code."
   ]
  },
  {
   "cell_type": "markdown",
   "id": "c4518ed0",
   "metadata": {},
   "source": [
    "### Simple `if` Statements"
   ]
  },
  {
   "cell_type": "markdown",
   "id": "e8ee336d",
   "metadata": {},
   "source": [
    "The simplest kind of `if` statement has one test and one action:\n",
    "\n",
    "```python\n",
    "if conditional_test:\n",
    "    do something\n",
    "```"
   ]
  },
  {
   "cell_type": "code",
   "execution_count": null,
   "id": "f2875bb4",
   "metadata": {
    "ExecuteTime": {
     "end_time": "2023-07-13T09:08:45.971542Z",
     "start_time": "2023-07-13T09:08:44.359965Z"
    }
   },
   "outputs": [],
   "source": [
    "age = float(input(\"Input your age in years: \"))\n",
    "if age >= 17:\n",
    "    print(\"You are eligible to apply for a professional driver's license!\")"
   ]
  },
  {
   "cell_type": "markdown",
   "id": "a311efbc",
   "metadata": {},
   "source": [
    "### `if`-`else` statements"
   ]
  },
  {
   "cell_type": "markdown",
   "id": "c030db7e",
   "metadata": {},
   "source": [
    "Oftentimes, you'll want to take one action when a conditional test passes and a different action in all other cases. We can use Python's `if`-`else` syntax to make this possible.\n",
    "\n",
    "```python\n",
    "if conditional_test:\n",
    "    # Do something if `conditional_test` is True\n",
    "else:\n",
    "    # Do something if `conditional_test` is False\n",
    "```"
   ]
  },
  {
   "cell_type": "code",
   "execution_count": null,
   "id": "00f48a63",
   "metadata": {
    "ExecuteTime": {
     "end_time": "2023-07-13T09:12:25.546494Z",
     "start_time": "2023-07-13T09:12:24.168071Z"
    }
   },
   "outputs": [],
   "source": [
    "age = float(input(\"Input your age in years: \"))\n",
    "if age >= 17:\n",
    "    print(\"You are eligible to apply for a professional driver's license!\")\n",
    "else:\n",
    "    print(\"I'm sorry, you cannot apply for a professional driver's license.\")"
   ]
  },
  {
   "cell_type": "markdown",
   "id": "4c1d089b",
   "metadata": {},
   "source": [
    "### `if`-`elif`-`else` chain"
   ]
  },
  {
   "cell_type": "markdown",
   "id": "68885ea9",
   "metadata": {},
   "source": [
    "In other times, you'll need to test more than two possible situations. To evaluate this, you can use the Python's `if-elif-else` syntax. Python will execute only one block in the `if-elif-else` chain. It runs each conditional test in order until one passes. When a test passes, the code following that test is executed and Python skips the rest of the tests."
   ]
  },
  {
   "cell_type": "markdown",
   "id": "b8695cd1",
   "metadata": {},
   "source": [
    "A real world example of this is typhoon classification."
   ]
  },
  {
   "cell_type": "code",
   "execution_count": null,
   "id": "6fb11215",
   "metadata": {
    "ExecuteTime": {
     "end_time": "2023-07-13T09:28:18.858532Z",
     "start_time": "2023-07-13T09:28:18.848843Z"
    }
   },
   "outputs": [],
   "source": [
    "def classify_typhoon(wind_speed: float) -> str:\n",
    "    \"\"\"Return the classification of a tropical cyclone given its wind speed\n",
    "\n",
    "    Reference: https://www.pagasa.dost.gov.ph/information/about-tropical-cyclone\n",
    "\n",
    "    Parameters\n",
    "    ----------\n",
    "    wind_speed : float\n",
    "        Wind speed of the typhoon in kilometers per hour (kph)\n",
    "\n",
    "    Returns\n",
    "    -------\n",
    "    classification : str\n",
    "        Classification of the typhoon. It can be Tropical Depression (TD),\n",
    "        Tropical Storm (TS), Severe Tropical Storm (STS), Typhoon (TY),\n",
    "        Super Typhoon (STY)\n",
    "\n",
    "    Examples\n",
    "    --------\n",
    "    >>> classify_typhoon(88.5)\n",
    "    SEVERE TROPICAL STORM (STS)\n",
    "    \"\"\"\n",
    "    if wind_speed < 62:\n",
    "        classification = \"TROPICAL DEPRESSION (TD)\"\n",
    "    elif wind_speed < 88:\n",
    "        classification = \"TROPICAL STORM (TS)\"\n",
    "    elif wind_speed < 117:\n",
    "        classification = \"SEVERE TROPICAL STORM (STS)\"\n",
    "    elif wind_speed < 184:\n",
    "        classification = \"TYPHOON (TY)\"\n",
    "    else:\n",
    "        classification = \"SUPER TYPHOON (STY)\"\n",
    "\n",
    "    return classification"
   ]
  },
  {
   "cell_type": "code",
   "execution_count": null,
   "id": "518bfd94",
   "metadata": {
    "ExecuteTime": {
     "end_time": "2023-07-13T09:28:25.672720Z",
     "start_time": "2023-07-13T09:28:25.668063Z"
    }
   },
   "outputs": [],
   "source": [
    "classify_typhoon(88.5)"
   ]
  },
  {
   "cell_type": "markdown",
   "id": "61825d6a",
   "metadata": {},
   "source": [
    "Note that Python does not require an `else` block at the end of the `if-elif` chain. Sometimes an else block can be useful, sometimes it is clearer to use an additional `elif` statement that catches the specific condition of interest."
   ]
  },
  {
   "cell_type": "markdown",
   "id": "c2db2afc",
   "metadata": {},
   "source": [
    "## 3 Loops"
   ]
  },
  {
   "cell_type": "markdown",
   "id": "7a571dc2",
   "metadata": {},
   "source": [
    "Up until know, if we want to execute a code two hundred times, you would need to run that specific code block/cell two hundred times. For this section, we will introduce another fundamental kind of control flow: repetition. We'll see how we can write an instruction once and use loops to repeat that code the desired number of times.\n",
    "\n",
    "There are two ways to use loops: the first one is using an iterable which allows us to process items in a collection of data; the second one is to use conditionals as trigger when to stop executing the code in the loop. We'll consider both of these in the next subsections."
   ]
  },
  {
   "cell_type": "markdown",
   "id": "f44fce69",
   "metadata": {},
   "source": [
    "### Looping through an entire collection"
   ]
  },
  {
   "cell_type": "markdown",
   "id": "3069cc14",
   "metadata": {},
   "source": [
    "#### Processing lists"
   ]
  },
  {
   "cell_type": "markdown",
   "id": "318d28fa",
   "metadata": {},
   "source": [
    "We'll often would want to run through different elements in a list, performing the same task in each item. As an example, consider a task wherein we are to convert several speed measurements from kilometers per hour to miles per hour. We can use Python's `for` loop syntax to process each measurement, without having to write one statement per element."
   ]
  },
  {
   "cell_type": "code",
   "execution_count": null,
   "id": "40ac9cbd",
   "metadata": {
    "ExecuteTime": {
     "end_time": "2023-07-13T10:07:16.252991Z",
     "start_time": "2023-07-13T10:07:16.248819Z"
    }
   },
   "outputs": [],
   "source": [
    "speeds = [0, 1.0, 20., 60., 120., 160.] # in km/h\n",
    "\n",
    "for speed in speeds:\n",
    "    imperial_speed = round(speed / 1.609, 2)\n",
    "    print(f\"Metric: {speed} km/h; Imperial: {imperial_speed} mph\")"
   ]
  },
  {
   "cell_type": "markdown",
   "id": "1a112789",
   "metadata": {},
   "source": [
    "The general form of a `for` loop is as follows:\n",
    "\n",
    "```python\n",
    "for <<loop_variable>> in <<list>>:\n",
    "    <<block>>\n",
    "```"
   ]
  },
  {
   "cell_type": "markdown",
   "id": "7a960139",
   "metadata": {},
   "source": [
    "The way a `for` loop is executed is as follows:\n",
    "1. The loop variable is assigned the first item in the list, and the loop block is executed.\n",
    "2. The loop variable is then assigned to the second item in the list and the loop body is executed again\n",
    "3. This is repeated until the loop variable is assigned the last item in the list and the loop body is executed one last time.\n",
    "\n",
    "Always remember to indent the line after the `for` statement in a loop. If you forget, Python will remind you by throwing off and error."
   ]
  },
  {
   "cell_type": "markdown",
   "id": "ca9a11c0",
   "metadata": {},
   "source": [
    "#### Using the `range()` function"
   ]
  },
  {
   "cell_type": "markdown",
   "id": "27b3f60e",
   "metadata": {},
   "source": [
    "Python has a built-in function `range()` that can be useful to generate a series of numbers."
   ]
  },
  {
   "cell_type": "code",
   "execution_count": null,
   "id": "169bd119",
   "metadata": {
    "ExecuteTime": {
     "end_time": "2023-07-13T10:16:30.964766Z",
     "start_time": "2023-07-13T10:16:30.946146Z"
    },
    "scrolled": true
   },
   "outputs": [],
   "source": [
    "help(range)"
   ]
  },
  {
   "cell_type": "markdown",
   "id": "d4ef55a0",
   "metadata": {},
   "source": [
    "You can use the `range()` in two ways:\n",
    "\n",
    "First is by using an integer input"
   ]
  },
  {
   "cell_type": "code",
   "execution_count": null,
   "id": "faa0c3d2",
   "metadata": {
    "ExecuteTime": {
     "end_time": "2023-07-13T10:17:05.854690Z",
     "start_time": "2023-07-13T10:17:05.850185Z"
    }
   },
   "outputs": [],
   "source": [
    "for value in range(5):\n",
    "    print(value)"
   ]
  },
  {
   "cell_type": "markdown",
   "id": "2bd6e7eb",
   "metadata": {},
   "source": [
    "The second way is to specify the starting value, ending value, and optionally, the increment or decrement value."
   ]
  },
  {
   "cell_type": "code",
   "execution_count": null,
   "id": "980ca428",
   "metadata": {
    "ExecuteTime": {
     "end_time": "2023-07-13T10:18:21.780688Z",
     "start_time": "2023-07-13T10:18:21.777595Z"
    }
   },
   "outputs": [],
   "source": [
    "for value in range(1, 5):\n",
    "    print(value)"
   ]
  },
  {
   "cell_type": "markdown",
   "id": "be824507",
   "metadata": {},
   "source": [
    "You can use this to refer the index of a list."
   ]
  },
  {
   "cell_type": "code",
   "execution_count": null,
   "id": "c8d74861",
   "metadata": {
    "ExecuteTime": {
     "end_time": "2023-07-13T10:21:35.861272Z",
     "start_time": "2023-07-13T10:21:35.854429Z"
    }
   },
   "outputs": [],
   "source": [
    "japanese_cars = ['toyota', 'honda', 'nissan', 'suzuki', 'mazda']\n",
    "\n",
    "print(\"A list of different japanese car brands:\\n\")\n",
    "for i in range(len(japanese_cars)):\n",
    "    print(f\"{i + 1}. {japanese_cars[i].title()}\")"
   ]
  },
  {
   "cell_type": "markdown",
   "id": "2aab8943",
   "metadata": {},
   "source": [
    "#### Processing any iterable"
   ]
  },
  {
   "cell_type": "markdown",
   "id": "026866b4",
   "metadata": {},
   "source": [
    "The use of the `for` loop is not restricted to lists. Any data type that is iterable can be used as basis for the repetition. For example, strings are actually iterable. Thus, you could loop over them."
   ]
  },
  {
   "cell_type": "code",
   "execution_count": null,
   "id": "7e145a9e",
   "metadata": {
    "ExecuteTime": {
     "end_time": "2023-07-13T10:25:52.919213Z",
     "start_time": "2023-07-13T10:25:52.914073Z"
    },
    "scrolled": true
   },
   "outputs": [],
   "source": [
    "message = 'I am an aspiring Data Science Leader'\n",
    "\n",
    "for value in message:\n",
    "    print(value)"
   ]
  },
  {
   "cell_type": "markdown",
   "id": "876024a8",
   "metadata": {},
   "source": [
    "Thus you can do several operations such as checking is a particular character is upper or lower case."
   ]
  },
  {
   "cell_type": "code",
   "execution_count": null,
   "id": "f7d387d3",
   "metadata": {
    "ExecuteTime": {
     "end_time": "2023-07-13T10:25:58.265548Z",
     "start_time": "2023-07-13T10:25:58.262296Z"
    }
   },
   "outputs": [],
   "source": [
    "for ch in message:\n",
    "    if ch.isupper():\n",
    "        print(ch)"
   ]
  },
  {
   "cell_type": "markdown",
   "id": "140a0b60",
   "metadata": {},
   "source": [
    "### Looping using conditionals"
   ]
  },
  {
   "cell_type": "markdown",
   "id": "0136dcde",
   "metadata": {},
   "source": [
    "`for` loops are useful if you know how many iterations of the loop you need. In some situations, you might not know in advance how many loop iterations you have to execute. In these cases, we can use a `while` loop. The general form of a `while` loop is as follows:\n",
    "\n",
    "```python\n",
    "while <<conditional_expression>>:\n",
    "    <<block>>\n",
    "```"
   ]
  },
  {
   "cell_type": "markdown",
   "id": "bfcfb42b",
   "metadata": {},
   "source": [
    "Here's an example:"
   ]
  },
  {
   "cell_type": "code",
   "execution_count": null,
   "id": "fba08804",
   "metadata": {
    "ExecuteTime": {
     "end_time": "2023-07-13T11:02:21.434428Z",
     "start_time": "2023-07-13T11:02:21.425291Z"
    }
   },
   "outputs": [],
   "source": [
    "rabbits = 3\n",
    "while rabbits > 0:\n",
    "    print(f\"Number of rabbits: {rabbits}\")\n",
    "    rabbits -= 1"
   ]
  },
  {
   "cell_type": "markdown",
   "id": "c2ee4fb6",
   "metadata": {},
   "source": [
    "Another more useful example is a simple exponential growth model. Consider the following bacteria population model:\n",
    "\n",
    "$$\n",
    "P(t + 1) = P(t) + rP(t)\n",
    "$$\n",
    "\n",
    "where $P(t)$ is the population size at time $t$ in minutes and $r$ is the growth rate. Let's create a code that determines how long it takes for a bacteria to double their numbers."
   ]
  },
  {
   "cell_type": "code",
   "execution_count": null,
   "id": "73f7e830",
   "metadata": {
    "ExecuteTime": {
     "end_time": "2023-07-13T11:08:00.025513Z",
     "start_time": "2023-07-13T11:08:00.019343Z"
    }
   },
   "outputs": [],
   "source": [
    "time = 0\n",
    "initial_population = 1_000 # Initial population\n",
    "growth_rate = 0.21 # 21% growth per minute\n",
    "population = initial_population\n",
    "\n",
    "# We terminate the loop after twice the initial population\n",
    "while population < 2*initial_population:\n",
    "    population += growth_rate*population\n",
    "    print(f'Current population: {round(population)}')\n",
    "    time += 1\n",
    "\n",
    "print(f\"\\nIt took {time} minutes for the bacteria to double.\")\n",
    "print(f\"The final population was {round(population)} bacteria.\")"
   ]
  },
  {
   "cell_type": "markdown",
   "id": "805f0988",
   "metadata": {},
   "source": [
    "### Controlling Loops Using `break` and `continue`"
   ]
  },
  {
   "cell_type": "markdown",
   "id": "3bfb9200",
   "metadata": {},
   "source": [
    "As a rule, `for` and `while` loops execute all the statements in their body on each iteration. However, sometimes it is useful to break that rule. Python provides two ways of controlling the iteratin of a loop: `break` - which terminates the execution of the loop immediately, and `continue`, which skips ahead to the next iteration."
   ]
  },
  {
   "cell_type": "markdown",
   "id": "a1673096",
   "metadata": {},
   "source": [
    "For example, let's look at a simple worker that accomplishes `1` unit of work every hour. Let's see what happens to our loops when we use some `break` and `continue` statements."
   ]
  },
  {
   "cell_type": "code",
   "execution_count": null,
   "id": "d50fbb0f",
   "metadata": {
    "ExecuteTime": {
     "end_time": "2023-07-14T01:21:53.788558Z",
     "start_time": "2023-07-14T01:21:53.785067Z"
    }
   },
   "outputs": [],
   "source": [
    "# Case when we don't use `continue` or `break`\n",
    "work_done = 0 # Initialize the work done of a worker\n",
    "\n",
    "for time in range(24): # Time in hours\n",
    "    work_done += 1\n",
    "\n",
    "print(f\"Total work done: {work_done} units\")"
   ]
  },
  {
   "cell_type": "code",
   "execution_count": null,
   "id": "da29037b",
   "metadata": {
    "ExecuteTime": {
     "end_time": "2023-07-14T01:22:32.922224Z",
     "start_time": "2023-07-14T01:22:32.918362Z"
    }
   },
   "outputs": [],
   "source": [
    "# Case when we use break\n",
    "work_done = 0\n",
    "\n",
    "for time in range(24):\n",
    "    if time == 8:\n",
    "        break\n",
    "    else:\n",
    "        work_done += 1\n",
    "\n",
    "print(f\"Total work done: {work_done} units\")"
   ]
  },
  {
   "cell_type": "code",
   "execution_count": null,
   "id": "d01d9648",
   "metadata": {
    "ExecuteTime": {
     "end_time": "2023-07-14T01:23:26.643304Z",
     "start_time": "2023-07-14T01:23:26.636304Z"
    }
   },
   "outputs": [],
   "source": [
    "# Case when we use continue\n",
    "work_done = 0\n",
    "\n",
    "for time in range(24):\n",
    "    if time == 8:\n",
    "        continue\n",
    "    else:\n",
    "        work_done += 1\n",
    "\n",
    "print(f\"Total work done: {work_done} units\")"
   ]
  },
  {
   "cell_type": "code",
   "execution_count": null,
   "id": "ec4e93e5",
   "metadata": {
    "ExecuteTime": {
     "end_time": "2023-07-14T01:24:42.926199Z",
     "start_time": "2023-07-14T01:24:42.921788Z"
    }
   },
   "outputs": [],
   "source": [
    "work_done = 0\n",
    "\n",
    "for i, time in enumerate(range(24)):\n",
    "    if time == 8:\n",
    "        continue\n",
    "    else:\n",
    "        work_done += 1\n",
    "    print(f\"Time: {i+1}; Work done: {work_done}\")"
   ]
  },
  {
   "cell_type": "markdown",
   "id": "29c85854",
   "metadata": {},
   "source": [
    "## 4 Hands-on Exercises"
   ]
  },
  {
   "cell_type": "markdown",
   "id": "830c15c5",
   "metadata": {},
   "source": [
    "### Stages of Life"
   ]
  },
  {
   "cell_type": "markdown",
   "id": "043105ce",
   "metadata": {},
   "source": [
    "Create a function `life_stage()` that determines a person's stage of life given their `age`. The function will output a value according to the following conditions:\n",
    "- If a person's `age` is less than 2 years old, that person is a `baby`.\n",
    "- If a person's `age` is at least 2 years old but less than 4, that person is a `toddler`\n",
    "- If a person's `age` is at least 4 years old but less than 13, that person is a `kid`.\n",
    "- If a person's `age` is at least 13 years old but less than 20, that person is a `teenager`.\n",
    "- If a person's `age` is at least 20 years old but less than 65, that person is an `adult`.\n",
    "- If a person's `age` is 65 years or older, that person is an `elder`."
   ]
  },
  {
   "cell_type": "code",
   "execution_count": null,
   "id": "2d9b0625",
   "metadata": {},
   "outputs": [],
   "source": []
  },
  {
   "cell_type": "markdown",
   "id": "da393f38",
   "metadata": {},
   "source": [
    "### Generating Triangles"
   ]
  },
  {
   "cell_type": "markdown",
   "id": "b0ae77e0",
   "metadata": {},
   "source": [
    "Using `for` loops, print a right triangle `T` on the screen where the triangle is one character wide at its narrow point and seven characters wide at its widest point.\n",
    "\n",
    "```\n",
    "T\n",
    "TT\n",
    "TTT\n",
    "TTTT\n",
    "TTTTT\n",
    "TTTTTT\n",
    "TTTTTTT\n",
    "```"
   ]
  },
  {
   "cell_type": "code",
   "execution_count": null,
   "id": "bb8562f4",
   "metadata": {},
   "outputs": [],
   "source": []
  },
  {
   "cell_type": "markdown",
   "id": "d9e5fedf",
   "metadata": {},
   "source": [
    "Now try to print the triangle described in the previous exercise with its hypothenuse on the left side.\n",
    "\n",
    "```\n",
    "      T\n",
    "     TT\n",
    "    TTT\n",
    "   TTTT\n",
    "  TTTTT\n",
    " TTTTTT\n",
    "TTTTTTT\n",
    "```"
   ]
  },
  {
   "cell_type": "code",
   "execution_count": null,
   "id": "a614d76b",
   "metadata": {
    "ExecuteTime": {
     "end_time": "2023-07-13T11:12:17.627630Z",
     "start_time": "2023-07-13T11:12:17.624599Z"
    }
   },
   "outputs": [],
   "source": []
  },
  {
   "cell_type": "markdown",
   "id": "6f306471",
   "metadata": {},
   "source": [
    "### Stop the Negativity"
   ]
  },
  {
   "cell_type": "markdown",
   "id": "5db4e142",
   "metadata": {},
   "source": [
    "Create a function `remove_negative()` which takes in a list of numbers then returns a new list with all the negative numbers removed.\n",
    "\n",
    "Example:\n",
    "\n",
    "```python\n",
    ">>> remove_negative([-5, 1, -3, 2])\n",
    "[1, 2]\n",
    "```"
   ]
  },
  {
   "cell_type": "code",
   "execution_count": null,
   "id": "7ccb90ec",
   "metadata": {},
   "outputs": [],
   "source": []
  },
  {
   "cell_type": "markdown",
   "id": "ee24a5f9",
   "metadata": {},
   "source": [
    "### Fizz Buzz Fuzz"
   ]
  },
  {
   "cell_type": "markdown",
   "id": "0fdaf0da",
   "metadata": {},
   "source": [
    "Create a function `fizz_buzz()` that takes in an integer `n`, then returns a string output according to the following conditions:\n",
    "\n",
    "1. Return `'Fizz'` if `n` is divisble by 3.\n",
    "2. Return `'Buzz'` if `n` is divisible by 5.\n",
    "3. Return `'Fuzz'` if `n` is divisble by 15.\n",
    "4. Return the value `n` as a string if none of the above conditions are true."
   ]
  },
  {
   "cell_type": "code",
   "execution_count": null,
   "id": "ef000643",
   "metadata": {},
   "outputs": [],
   "source": []
  },
  {
   "cell_type": "markdown",
   "id": "b8aa81be",
   "metadata": {},
   "source": [
    "### Rats know what they're going to do today!"
   ]
  },
  {
   "cell_type": "markdown",
   "id": "f3b0f003",
   "metadata": {},
   "source": [
    "The dictionary `rats` contain information about two rats names `Phineas` and `Ferb`. It includes information such as each of the rat's `weight` and the `rate` at which each are expected to increase each week.\n",
    "\n",
    "1. Using a `while` loop, calculate how many weeks it would take for each of the two rats's weight to become 25 percent heavier than it was originally.\n",
    "2. Calculate how many weeks it would take for `Phineas` to be 10% heavier than `Ferb`."
   ]
  },
  {
   "cell_type": "code",
   "execution_count": null,
   "id": "9d6186fa",
   "metadata": {
    "ExecuteTime": {
     "end_time": "2023-07-14T01:38:55.303469Z",
     "start_time": "2023-07-14T01:38:55.299974Z"
    }
   },
   "outputs": [],
   "source": [
    "rats = [\n",
    "    {'name': 'Pip', 'weight': 10, 'rate': 0.08},\n",
    "    {'name': 'Pippin', 'weight': 14, 'rate': 0.04}\n",
    "]"
   ]
  },
  {
   "cell_type": "code",
   "execution_count": null,
   "id": "cb70aec1",
   "metadata": {
    "ExecuteTime": {
     "end_time": "2023-07-14T01:39:01.038448Z",
     "start_time": "2023-07-14T01:39:01.033545Z"
    }
   },
   "outputs": [],
   "source": []
  },
  {
   "cell_type": "markdown",
   "id": "fdfa8eee",
   "metadata": {},
   "source": [
    "### Roman Numerals"
   ]
  },
  {
   "cell_type": "markdown",
   "id": "4ef805ca",
   "metadata": {},
   "source": [
    "Create a function `roman_to_integer()` that takes in a roman numeral string `roman_numeral` then outputs the corresponding integer value of `roman_numeral`.\n",
    "\n",
    "Example:\n",
    "\n",
    "```python\n",
    ">>> roman_to_integer('XVI')\n",
    "16\n",
    ">>> roman_to_integer('XL')\n",
    "40\n",
    "```"
   ]
  },
  {
   "cell_type": "code",
   "execution_count": null,
   "id": "8a62d38c",
   "metadata": {
    "ExecuteTime": {
     "end_time": "2023-07-13T11:30:48.275079Z",
     "start_time": "2023-07-13T11:30:48.264481Z"
    }
   },
   "outputs": [],
   "source": []
  }
 ],
 "metadata": {
  "kernelspec": {
   "display_name": "Python 3 (ipykernel)",
   "language": "python",
   "name": "python3"
  },
  "language_info": {
   "codemirror_mode": {
    "name": "ipython",
    "version": 3
   },
   "file_extension": ".py",
   "mimetype": "text/x-python",
   "name": "python",
   "nbconvert_exporter": "python",
   "pygments_lexer": "ipython3",
   "version": "3.8.13"
  }
 },
 "nbformat": 4,
 "nbformat_minor": 5
}
